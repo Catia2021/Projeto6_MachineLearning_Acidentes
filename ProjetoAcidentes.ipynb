{
  "nbformat": 4,
  "nbformat_minor": 0,
  "metadata": {
    "colab": {
      "name": " ProjetoAcidentes.ipynb",
      "provenance": [],
      "authorship_tag": "ABX9TyPQYTYhHrXPeuOfIWH7MkoS",
      "include_colab_link": true
    },
    "kernelspec": {
      "name": "python3",
      "display_name": "Python 3"
    },
    "language_info": {
      "name": "python"
    }
  },
  "cells": [
    {
      "cell_type": "markdown",
      "metadata": {
        "id": "view-in-github",
        "colab_type": "text"
      },
      "source": [
        "<a href=\"https://colab.research.google.com/github/Catia2021/Projeto7_MachineLearning_Acidentes/blob/main/ProjetoAcidentes.ipynb\" target=\"_parent\"><img src=\"https://colab.research.google.com/assets/colab-badge.svg\" alt=\"Open In Colab\"/></a>"
      ]
    },
    {
      "cell_type": "markdown",
      "source": [
        "#Tema do Projeto: Acidentes Aéreos"
      ],
      "metadata": {
        "id": "-aagTCNtONup"
      }
    },
    {
      "cell_type": "markdown",
      "source": [
        "#Apresentação dos Dados"
      ],
      "metadata": {
        "id": "AU9DlcPiOarg"
      }
    },
    {
      "cell_type": "markdown",
      "source": [
        "Neste estudo serão utilizados dados coletados do repositório Kaggle disponibilizados no seguinte link: (https://www.kaggle.com/nosbielcs/opendataaigbrazil\n",
        "\n",
        "Com base neste dataset, será feito um modelo preditivo para classificar o tipo de acidente aéreo.\n"
      ],
      "metadata": {
        "id": "qQRaPlDQOiA_"
      }
    },
    {
      "cell_type": "markdown",
      "source": [
        "#Problema a ser resolvido"
      ],
      "metadata": {
        "id": "r3X5JfUDO-xV"
      }
    },
    {
      "cell_type": "markdown",
      "source": [
        "Construir  um modelo de Machine Learning que  seja  capaz de fazer previsões sobre os  tipos de acidentes aéreos. "
      ],
      "metadata": {
        "id": "1GkQ0CPHPG7X"
      }
    },
    {
      "cell_type": "markdown",
      "source": [
        "#Objetivos do Projeto  "
      ],
      "metadata": {
        "id": "1BWgRBI7PW9F"
      }
    },
    {
      "cell_type": "markdown",
      "source": [
        "Instalar e importar bibliotecas apropriadas\n",
        "\n",
        "Pré-processar os dados\n",
        "\n",
        "Estabelecer as Variáveis Preditoras e a de classe\n",
        "\n",
        "Realizar tratamento de atributos categóricos usando o LabelEncoder\n",
        "\n",
        "Escalonar os Atributos\n",
        "Tratar os dados desbalanceados s/n\n",
        "\n",
        "Dividir a base de dados em Treinamento e Teste\n",
        "\n",
        "Treinar o algoritmos  KNN, SVM e Regresão Logística \n",
        "\n",
        "Testar o algoritmo utilizando a matriz de confusão, a função accuracy_score e a classification_report"
      ],
      "metadata": {
        "id": "RbpM8GWIPcYV"
      }
    },
    {
      "cell_type": "markdown",
      "source": [
        "#Importando Bibliotecas e Dados"
      ],
      "metadata": {
        "id": "Opy2qQ7ZQEi9"
      }
    },
    {
      "cell_type": "code",
      "execution_count": null,
      "metadata": {
        "id": "uXxKwmX-N-fd"
      },
      "outputs": [],
      "source": [
        "! pip install pyod"
      ]
    },
    {
      "cell_type": "code",
      "source": [
        "!pip  install plotly --upgrade"
      ],
      "metadata": {
        "id": "qymlmc-_QN97"
      },
      "execution_count": null,
      "outputs": []
    },
    {
      "cell_type": "code",
      "source": [
        "import pandas as pd  # biblioteca para manipulação de dados   \n",
        "import numpy as np # biblioteca para manipulação de  dados numéricos\n",
        "import seaborn as sns # biblioteca para otimizar gráficos\n",
        "import matplotlib.pyplot as plt # biblioteca para geração de gráficos\n",
        "import plotly.express as px  # biblioteca para geração de gráficos interativos\n",
        "import sklearn # bilioteca para subsidiar Machine Learning\n",
        "import plotly.graph_objects as go # para concatenar graficos\n",
        "from sklearn.preprocessing import StandardScaler #para escalonar variaveis\n",
        "from sklearn.preprocessing import LabelEncoder #para transformar  variaveis\n",
        "from sklearn.compose import ColumnTransformer #para transformar variaveis\n",
        "from sklearn.model_selection import train_test_split  #para dividir base de teste e treinamento\n",
        "from sklearn.metrics import accuracy_score #para avaliar a acurácia\n",
        "import pickle\n",
        "from sklearn.metrics import confusion_matrix\n",
        "from sklearn.metrics import classification_report\n",
        "from yellowbrick.classifier import ConfusionMatrix\n",
        "from numpy.ma.core import filled\n",
        "from IPython.core.pylabtools import figsize\n",
        "from pyod. models.knn import KNN\n",
        "from sklearn.linear_model import LinearRegression # para algoritmo de regressão linear\n",
        "from yellowbrick.regressor import ResidualsPlot\n",
        "from sklearn.metrics import mean_absolute_error, mean_squared_error   \n",
        "from imblearn.under_sampling import TomekLinks\n",
        "import statsmodels.api as sm\n",
        "from sklearn.svm import SVC\n",
        "import  warnings\n",
        "warnings.filterwarnings('ignore')"
      ],
      "metadata": {
        "id": "_Xs72BtwQa8u"
      },
      "execution_count": 7,
      "outputs": []
    },
    {
      "cell_type": "code",
      "source": [
        "from sklearn.neighbors import KNeighborsClassifier"
      ],
      "metadata": {
        "id": "JFHL8fHD-Zb9"
      },
      "execution_count": 4,
      "outputs": []
    },
    {
      "cell_type": "code",
      "source": [
        "from sklearn.linear_model import LogisticRegression"
      ],
      "metadata": {
        "id": "7Rtn4xaWDGQt"
      },
      "execution_count": 5,
      "outputs": []
    },
    {
      "cell_type": "code",
      "source": [
        "from google.colab import files\n",
        "uploaded = files.upload()"
      ],
      "metadata": {
        "colab": {
          "resources": {
            "http://localhost:8080/nbextensions/google.colab/files.js": {
              "data": "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",
              "ok": true,
              "headers": [
                [
                  "content-type",
                  "application/javascript"
                ]
              ],
              "status": 200,
              "status_text": "OK"
            }
          },
          "base_uri": "https://localhost:8080/",
          "height": 73
        },
        "id": "-tLk4VynQq9X",
        "outputId": "1055a23c-9dc9-4657-a506-2764e35f0d48"
      },
      "execution_count": 6,
      "outputs": [
        {
          "output_type": "display_data",
          "data": {
            "text/html": [
              "\n",
              "     <input type=\"file\" id=\"files-411fd121-1eeb-4fe5-a0cb-cb15bade8070\" name=\"files[]\" multiple disabled\n",
              "        style=\"border:none\" />\n",
              "     <output id=\"result-411fd121-1eeb-4fe5-a0cb-cb15bade8070\">\n",
              "      Upload widget is only available when the cell has been executed in the\n",
              "      current browser session. Please rerun this cell to enable.\n",
              "      </output>\n",
              "      <script src=\"/nbextensions/google.colab/files.js\"></script> "
            ],
            "text/plain": [
              "<IPython.core.display.HTML object>"
            ]
          },
          "metadata": {}
        },
        {
          "output_type": "stream",
          "name": "stdout",
          "text": [
            "Saving accidents.csv to accidents.csv\n"
          ]
        }
      ]
    },
    {
      "cell_type": "markdown",
      "source": [
        "#Pré-Processamento dos Dados"
      ],
      "metadata": {
        "id": "0lPwZd2vRFGE"
      }
    },
    {
      "cell_type": "code",
      "source": [
        "Acidente = pd.read_csv('/content/accidents.csv' )"
      ],
      "metadata": {
        "id": "juSob2sDRT_9"
      },
      "execution_count": 8,
      "outputs": []
    },
    {
      "cell_type": "code",
      "source": [
        "print( ' Este dataset tem %s linhas e %s colunas' % (Acidente.shape[0] , Acidente.shape[1] ) )\n",
        "Acidente.head()"
      ],
      "metadata": {
        "colab": {
          "base_uri": "https://localhost:8080/",
          "height": 422
        },
        "id": "w8IwiHzSRfWs",
        "outputId": "e7987a2b-f301-4897-9b8d-fa1debff2ded"
      },
      "execution_count": 9,
      "outputs": [
        {
          "output_type": "stream",
          "name": "stdout",
          "text": [
            " Este dataset tem 5116 linhas e 116 colunas\n"
          ]
        },
        {
          "output_type": "execute_result",
          "data": {
            "text/html": [
              "\n",
              "  <div id=\"df-1c89564d-9682-4512-8d5d-bc5f336610da\">\n",
              "    <div class=\"colab-df-container\">\n",
              "      <div>\n",
              "<style scoped>\n",
              "    .dataframe tbody tr th:only-of-type {\n",
              "        vertical-align: middle;\n",
              "    }\n",
              "\n",
              "    .dataframe tbody tr th {\n",
              "        vertical-align: top;\n",
              "    }\n",
              "\n",
              "    .dataframe thead th {\n",
              "        text-align: right;\n",
              "    }\n",
              "</style>\n",
              "<table border=\"1\" class=\"dataframe\">\n",
              "  <thead>\n",
              "    <tr style=\"text-align: right;\">\n",
              "      <th></th>\n",
              "      <th>codigo_ocorrencia</th>\n",
              "      <th>ocorrencia_classificacao</th>\n",
              "      <th>ocorrencia_tipo</th>\n",
              "      <th>ocorrencia_dia</th>\n",
              "      <th>ocorrencia_horario</th>\n",
              "      <th>ocorrencia_cidade</th>\n",
              "      <th>ocorrencia_uf</th>\n",
              "      <th>ocorrencia_pais</th>\n",
              "      <th>ocorrencia_aerodromo</th>\n",
              "      <th>aeronave_matricula</th>\n",
              "      <th>aeronave_equipamento</th>\n",
              "      <th>aeronave_fabricante</th>\n",
              "      <th>aeronave_modelo</th>\n",
              "      <th>aeronave_tipo_motor</th>\n",
              "      <th>aeronave_quantidade_motores</th>\n",
              "      <th>aeronave_peso_maximo_decolagem</th>\n",
              "      <th>aeronave_quantidade_assentos</th>\n",
              "      <th>aeronave_ano_fabricacao</th>\n",
              "      <th>aeronave_pais_registro</th>\n",
              "      <th>aeronave_categoria_registro</th>\n",
              "      <th>aeronave_segmento_aviacao</th>\n",
              "      <th>aeronave_origem_voo</th>\n",
              "      <th>aeronave_destino_voo</th>\n",
              "      <th>aeronave_fase_voo</th>\n",
              "      <th>aeronave_tipo_operacao</th>\n",
              "      <th>aeronave_nivel_dano</th>\n",
              "      <th>quantidade_fatalidades</th>\n",
              "      <th>quantidade_fatores_contribuintes</th>\n",
              "      <th>fator_1</th>\n",
              "      <th>fator_2</th>\n",
              "      <th>fator_3</th>\n",
              "      <th>fator_4</th>\n",
              "      <th>fator_5</th>\n",
              "      <th>fator_6</th>\n",
              "      <th>fator_7</th>\n",
              "      <th>fator_8</th>\n",
              "      <th>fator_9</th>\n",
              "      <th>fator_10</th>\n",
              "      <th>fator_11</th>\n",
              "      <th>fator_12</th>\n",
              "      <th>...</th>\n",
              "      <th>fator_49</th>\n",
              "      <th>fator_50</th>\n",
              "      <th>fator_51</th>\n",
              "      <th>fator_52</th>\n",
              "      <th>fator_53</th>\n",
              "      <th>fator_54</th>\n",
              "      <th>fator_55</th>\n",
              "      <th>fator_56</th>\n",
              "      <th>fator_57</th>\n",
              "      <th>fator_58</th>\n",
              "      <th>fator_59</th>\n",
              "      <th>fator_60</th>\n",
              "      <th>fator_61</th>\n",
              "      <th>fator_62</th>\n",
              "      <th>fator_63</th>\n",
              "      <th>fator_64</th>\n",
              "      <th>fator_65</th>\n",
              "      <th>fator_66</th>\n",
              "      <th>fator_67</th>\n",
              "      <th>fator_68</th>\n",
              "      <th>fator_69</th>\n",
              "      <th>fator_70</th>\n",
              "      <th>fator_71</th>\n",
              "      <th>fator_72</th>\n",
              "      <th>fator_73</th>\n",
              "      <th>fator_74</th>\n",
              "      <th>fator_75</th>\n",
              "      <th>fator_76</th>\n",
              "      <th>fator_77</th>\n",
              "      <th>fator_78</th>\n",
              "      <th>fator_79</th>\n",
              "      <th>fator_80</th>\n",
              "      <th>fator_81</th>\n",
              "      <th>fator_82</th>\n",
              "      <th>fator_83</th>\n",
              "      <th>fator_84</th>\n",
              "      <th>fator_85</th>\n",
              "      <th>fator_86</th>\n",
              "      <th>fator_87</th>\n",
              "      <th>dia_extracao</th>\n",
              "    </tr>\n",
              "  </thead>\n",
              "  <tbody>\n",
              "    <tr>\n",
              "      <th>0</th>\n",
              "      <td>201305055424986</td>\n",
              "      <td>ACIDENTE</td>\n",
              "      <td>FALHA DO MOTOR EM VOO</td>\n",
              "      <td>2013-05-05</td>\n",
              "      <td>11:00:00</td>\n",
              "      <td>ARIQUEMES</td>\n",
              "      <td>RO</td>\n",
              "      <td>BRASIL</td>\n",
              "      <td>SJOG</td>\n",
              "      <td>PUAUN</td>\n",
              "      <td>ULTRALEVE</td>\n",
              "      <td>ORION LTDA</td>\n",
              "      <td>F1A EAGLE</td>\n",
              "      <td>PISTÃO</td>\n",
              "      <td>1.0</td>\n",
              "      <td>450</td>\n",
              "      <td>2.0</td>\n",
              "      <td>2005.0</td>\n",
              "      <td>BRASIL</td>\n",
              "      <td>PET</td>\n",
              "      <td>EXPERIMENTAL</td>\n",
              "      <td>****</td>\n",
              "      <td>****</td>\n",
              "      <td>CIRCUITO DE TRÁFEGO</td>\n",
              "      <td>VOO EXPERIMENTAL</td>\n",
              "      <td>SUBSTANCIAL</td>\n",
              "      <td>NaN</td>\n",
              "      <td>0</td>\n",
              "      <td>NÃO</td>\n",
              "      <td>NÃO</td>\n",
              "      <td>NÃO</td>\n",
              "      <td>NÃO</td>\n",
              "      <td>NÃO</td>\n",
              "      <td>NÃO</td>\n",
              "      <td>NÃO</td>\n",
              "      <td>NÃO</td>\n",
              "      <td>NÃO</td>\n",
              "      <td>NÃO</td>\n",
              "      <td>NÃO</td>\n",
              "      <td>NÃO</td>\n",
              "      <td>...</td>\n",
              "      <td>NÃO</td>\n",
              "      <td>NÃO</td>\n",
              "      <td>NÃO</td>\n",
              "      <td>NÃO</td>\n",
              "      <td>NÃO</td>\n",
              "      <td>NÃO</td>\n",
              "      <td>NÃO</td>\n",
              "      <td>NÃO</td>\n",
              "      <td>NÃO</td>\n",
              "      <td>NÃO</td>\n",
              "      <td>NÃO</td>\n",
              "      <td>NÃO</td>\n",
              "      <td>NÃO</td>\n",
              "      <td>NÃO</td>\n",
              "      <td>NÃO</td>\n",
              "      <td>NÃO</td>\n",
              "      <td>NÃO</td>\n",
              "      <td>NÃO</td>\n",
              "      <td>NÃO</td>\n",
              "      <td>NÃO</td>\n",
              "      <td>NÃO</td>\n",
              "      <td>NÃO</td>\n",
              "      <td>NÃO</td>\n",
              "      <td>NÃO</td>\n",
              "      <td>NÃO</td>\n",
              "      <td>NÃO</td>\n",
              "      <td>NÃO</td>\n",
              "      <td>NÃO</td>\n",
              "      <td>NÃO</td>\n",
              "      <td>NÃO</td>\n",
              "      <td>NÃO</td>\n",
              "      <td>NÃO</td>\n",
              "      <td>NÃO</td>\n",
              "      <td>NÃO</td>\n",
              "      <td>NÃO</td>\n",
              "      <td>NÃO</td>\n",
              "      <td>NÃO</td>\n",
              "      <td>NÃO</td>\n",
              "      <td>NÃO</td>\n",
              "      <td>2018-05-06</td>\n",
              "    </tr>\n",
              "    <tr>\n",
              "      <th>1</th>\n",
              "      <td>201805021421302</td>\n",
              "      <td>INCIDENTE</td>\n",
              "      <td>AERÓDROMO</td>\n",
              "      <td>2018-03-09</td>\n",
              "      <td>22:40:00</td>\n",
              "      <td>CACOAL</td>\n",
              "      <td>RO</td>\n",
              "      <td>BRASIL</td>\n",
              "      <td>SSKW</td>\n",
              "      <td>PRAXL</td>\n",
              "      <td>AVIÃO</td>\n",
              "      <td>EMBRAER</td>\n",
              "      <td>ERJ 190-200 IGW</td>\n",
              "      <td>JATO</td>\n",
              "      <td>2.0</td>\n",
              "      <td>52290</td>\n",
              "      <td>125.0</td>\n",
              "      <td>2012.0</td>\n",
              "      <td>BRASIL</td>\n",
              "      <td>TPR</td>\n",
              "      <td>REGULAR</td>\n",
              "      <td>SSKW</td>\n",
              "      <td>SBCY</td>\n",
              "      <td>TÁXI</td>\n",
              "      <td>VOO REGULAR</td>\n",
              "      <td>NENHUM</td>\n",
              "      <td>NaN</td>\n",
              "      <td>0</td>\n",
              "      <td>NÃO</td>\n",
              "      <td>NÃO</td>\n",
              "      <td>NÃO</td>\n",
              "      <td>NÃO</td>\n",
              "      <td>NÃO</td>\n",
              "      <td>NÃO</td>\n",
              "      <td>NÃO</td>\n",
              "      <td>NÃO</td>\n",
              "      <td>NÃO</td>\n",
              "      <td>NÃO</td>\n",
              "      <td>NÃO</td>\n",
              "      <td>NÃO</td>\n",
              "      <td>...</td>\n",
              "      <td>NÃO</td>\n",
              "      <td>NÃO</td>\n",
              "      <td>NÃO</td>\n",
              "      <td>NÃO</td>\n",
              "      <td>NÃO</td>\n",
              "      <td>NÃO</td>\n",
              "      <td>NÃO</td>\n",
              "      <td>NÃO</td>\n",
              "      <td>NÃO</td>\n",
              "      <td>NÃO</td>\n",
              "      <td>NÃO</td>\n",
              "      <td>NÃO</td>\n",
              "      <td>NÃO</td>\n",
              "      <td>NÃO</td>\n",
              "      <td>NÃO</td>\n",
              "      <td>NÃO</td>\n",
              "      <td>NÃO</td>\n",
              "      <td>NÃO</td>\n",
              "      <td>NÃO</td>\n",
              "      <td>NÃO</td>\n",
              "      <td>NÃO</td>\n",
              "      <td>NÃO</td>\n",
              "      <td>NÃO</td>\n",
              "      <td>NÃO</td>\n",
              "      <td>NÃO</td>\n",
              "      <td>NÃO</td>\n",
              "      <td>NÃO</td>\n",
              "      <td>NÃO</td>\n",
              "      <td>NÃO</td>\n",
              "      <td>NÃO</td>\n",
              "      <td>NÃO</td>\n",
              "      <td>NÃO</td>\n",
              "      <td>NÃO</td>\n",
              "      <td>NÃO</td>\n",
              "      <td>NÃO</td>\n",
              "      <td>NÃO</td>\n",
              "      <td>NÃO</td>\n",
              "      <td>NÃO</td>\n",
              "      <td>NÃO</td>\n",
              "      <td>2018-05-06</td>\n",
              "    </tr>\n",
              "    <tr>\n",
              "      <th>2</th>\n",
              "      <td>201311259977425</td>\n",
              "      <td>INCIDENTE GRAVE</td>\n",
              "      <td>POUSO SEM TREM</td>\n",
              "      <td>2013-11-25</td>\n",
              "      <td>12:32:00</td>\n",
              "      <td>CACOAL</td>\n",
              "      <td>RO</td>\n",
              "      <td>BRASIL</td>\n",
              "      <td>SSKW</td>\n",
              "      <td>PTRDP</td>\n",
              "      <td>AVIÃO</td>\n",
              "      <td>EMBRAER</td>\n",
              "      <td>EMB-810C</td>\n",
              "      <td>PISTÃO</td>\n",
              "      <td>2.0</td>\n",
              "      <td>2073</td>\n",
              "      <td>7.0</td>\n",
              "      <td>1980.0</td>\n",
              "      <td>BRASIL</td>\n",
              "      <td>TPX</td>\n",
              "      <td>TÁXI AÉREO</td>\n",
              "      <td>SBJI</td>\n",
              "      <td>SSKW</td>\n",
              "      <td>POUSO</td>\n",
              "      <td>TÁXI AÉREO</td>\n",
              "      <td>SUBSTANCIAL</td>\n",
              "      <td>NaN</td>\n",
              "      <td>2</td>\n",
              "      <td>NÃO</td>\n",
              "      <td>NÃO</td>\n",
              "      <td>NÃO</td>\n",
              "      <td>NÃO</td>\n",
              "      <td>NÃO</td>\n",
              "      <td>NÃO</td>\n",
              "      <td>NÃO</td>\n",
              "      <td>NÃO</td>\n",
              "      <td>NÃO</td>\n",
              "      <td>NÃO</td>\n",
              "      <td>NÃO</td>\n",
              "      <td>NÃO</td>\n",
              "      <td>...</td>\n",
              "      <td>NÃO</td>\n",
              "      <td>NÃO</td>\n",
              "      <td>SIM</td>\n",
              "      <td>NÃO</td>\n",
              "      <td>NÃO</td>\n",
              "      <td>NÃO</td>\n",
              "      <td>NÃO</td>\n",
              "      <td>NÃO</td>\n",
              "      <td>NÃO</td>\n",
              "      <td>NÃO</td>\n",
              "      <td>NÃO</td>\n",
              "      <td>NÃO</td>\n",
              "      <td>NÃO</td>\n",
              "      <td>NÃO</td>\n",
              "      <td>NÃO</td>\n",
              "      <td>NÃO</td>\n",
              "      <td>NÃO</td>\n",
              "      <td>NÃO</td>\n",
              "      <td>NÃO</td>\n",
              "      <td>NÃO</td>\n",
              "      <td>NÃO</td>\n",
              "      <td>NÃO</td>\n",
              "      <td>NÃO</td>\n",
              "      <td>NÃO</td>\n",
              "      <td>NÃO</td>\n",
              "      <td>NÃO</td>\n",
              "      <td>NÃO</td>\n",
              "      <td>NÃO</td>\n",
              "      <td>NÃO</td>\n",
              "      <td>NÃO</td>\n",
              "      <td>NÃO</td>\n",
              "      <td>NÃO</td>\n",
              "      <td>NÃO</td>\n",
              "      <td>NÃO</td>\n",
              "      <td>NÃO</td>\n",
              "      <td>NÃO</td>\n",
              "      <td>NÃO</td>\n",
              "      <td>NÃO</td>\n",
              "      <td>NÃO</td>\n",
              "      <td>2018-05-06</td>\n",
              "    </tr>\n",
              "    <tr>\n",
              "      <th>3</th>\n",
              "      <td>201605160250139</td>\n",
              "      <td>INCIDENTE GRAVE</td>\n",
              "      <td>COLISÃO COM OBSTÁCULO DURANTE A DECOLAGEM E POUSO</td>\n",
              "      <td>2016-05-13</td>\n",
              "      <td>19:19:00</td>\n",
              "      <td>CACOAL</td>\n",
              "      <td>RO</td>\n",
              "      <td>BRASIL</td>\n",
              "      <td>SSKW</td>\n",
              "      <td>PTYEL</td>\n",
              "      <td>HELICÓPTERO</td>\n",
              "      <td>BELL HELICOPTER</td>\n",
              "      <td>206L-4</td>\n",
              "      <td>TURBOEIXO</td>\n",
              "      <td>1.0</td>\n",
              "      <td>2018</td>\n",
              "      <td>7.0</td>\n",
              "      <td>1997.0</td>\n",
              "      <td>BRASIL</td>\n",
              "      <td>AIF</td>\n",
              "      <td>ADMINISTRAÇÃO INDIRETA</td>\n",
              "      <td>SSKW</td>\n",
              "      <td>SSKW</td>\n",
              "      <td>APROXIMAÇÃO FINAL</td>\n",
              "      <td>OPERAÇÃO ESPECIALIZADA</td>\n",
              "      <td>LEVE</td>\n",
              "      <td>NaN</td>\n",
              "      <td>0</td>\n",
              "      <td>NÃO</td>\n",
              "      <td>NÃO</td>\n",
              "      <td>NÃO</td>\n",
              "      <td>NÃO</td>\n",
              "      <td>NÃO</td>\n",
              "      <td>NÃO</td>\n",
              "      <td>NÃO</td>\n",
              "      <td>NÃO</td>\n",
              "      <td>NÃO</td>\n",
              "      <td>NÃO</td>\n",
              "      <td>NÃO</td>\n",
              "      <td>NÃO</td>\n",
              "      <td>...</td>\n",
              "      <td>NÃO</td>\n",
              "      <td>NÃO</td>\n",
              "      <td>NÃO</td>\n",
              "      <td>NÃO</td>\n",
              "      <td>NÃO</td>\n",
              "      <td>NÃO</td>\n",
              "      <td>NÃO</td>\n",
              "      <td>NÃO</td>\n",
              "      <td>NÃO</td>\n",
              "      <td>NÃO</td>\n",
              "      <td>NÃO</td>\n",
              "      <td>NÃO</td>\n",
              "      <td>NÃO</td>\n",
              "      <td>NÃO</td>\n",
              "      <td>NÃO</td>\n",
              "      <td>NÃO</td>\n",
              "      <td>NÃO</td>\n",
              "      <td>NÃO</td>\n",
              "      <td>NÃO</td>\n",
              "      <td>NÃO</td>\n",
              "      <td>NÃO</td>\n",
              "      <td>NÃO</td>\n",
              "      <td>NÃO</td>\n",
              "      <td>NÃO</td>\n",
              "      <td>NÃO</td>\n",
              "      <td>NÃO</td>\n",
              "      <td>NÃO</td>\n",
              "      <td>NÃO</td>\n",
              "      <td>NÃO</td>\n",
              "      <td>NÃO</td>\n",
              "      <td>NÃO</td>\n",
              "      <td>NÃO</td>\n",
              "      <td>NÃO</td>\n",
              "      <td>NÃO</td>\n",
              "      <td>NÃO</td>\n",
              "      <td>NÃO</td>\n",
              "      <td>NÃO</td>\n",
              "      <td>NÃO</td>\n",
              "      <td>NÃO</td>\n",
              "      <td>2018-05-06</td>\n",
              "    </tr>\n",
              "    <tr>\n",
              "      <th>4</th>\n",
              "      <td>201103187273112</td>\n",
              "      <td>INCIDENTE</td>\n",
              "      <td>OUTROS</td>\n",
              "      <td>2011-03-18</td>\n",
              "      <td>13:30:00</td>\n",
              "      <td>CEREJEIRAS</td>\n",
              "      <td>RO</td>\n",
              "      <td>BRASIL</td>\n",
              "      <td>****</td>\n",
              "      <td>PTUQW</td>\n",
              "      <td>AVIÃO</td>\n",
              "      <td>NEIVA INDUSTRIA AERONAUTICA</td>\n",
              "      <td>EMB-202</td>\n",
              "      <td>PISTÃO</td>\n",
              "      <td>1.0</td>\n",
              "      <td>1800</td>\n",
              "      <td>1.0</td>\n",
              "      <td>2004.0</td>\n",
              "      <td>BRASIL</td>\n",
              "      <td>SAE</td>\n",
              "      <td>ESPECIALIZADA</td>\n",
              "      <td>****</td>\n",
              "      <td>****</td>\n",
              "      <td>TÁXI</td>\n",
              "      <td>OPERAÇÃO ESPECIALIZADA</td>\n",
              "      <td>SUBSTANCIAL</td>\n",
              "      <td>NaN</td>\n",
              "      <td>0</td>\n",
              "      <td>NÃO</td>\n",
              "      <td>NÃO</td>\n",
              "      <td>NÃO</td>\n",
              "      <td>NÃO</td>\n",
              "      <td>NÃO</td>\n",
              "      <td>NÃO</td>\n",
              "      <td>NÃO</td>\n",
              "      <td>NÃO</td>\n",
              "      <td>NÃO</td>\n",
              "      <td>NÃO</td>\n",
              "      <td>NÃO</td>\n",
              "      <td>NÃO</td>\n",
              "      <td>...</td>\n",
              "      <td>NÃO</td>\n",
              "      <td>NÃO</td>\n",
              "      <td>NÃO</td>\n",
              "      <td>NÃO</td>\n",
              "      <td>NÃO</td>\n",
              "      <td>NÃO</td>\n",
              "      <td>NÃO</td>\n",
              "      <td>NÃO</td>\n",
              "      <td>NÃO</td>\n",
              "      <td>NÃO</td>\n",
              "      <td>NÃO</td>\n",
              "      <td>NÃO</td>\n",
              "      <td>NÃO</td>\n",
              "      <td>NÃO</td>\n",
              "      <td>NÃO</td>\n",
              "      <td>NÃO</td>\n",
              "      <td>NÃO</td>\n",
              "      <td>NÃO</td>\n",
              "      <td>NÃO</td>\n",
              "      <td>NÃO</td>\n",
              "      <td>NÃO</td>\n",
              "      <td>NÃO</td>\n",
              "      <td>NÃO</td>\n",
              "      <td>NÃO</td>\n",
              "      <td>NÃO</td>\n",
              "      <td>NÃO</td>\n",
              "      <td>NÃO</td>\n",
              "      <td>NÃO</td>\n",
              "      <td>NÃO</td>\n",
              "      <td>NÃO</td>\n",
              "      <td>NÃO</td>\n",
              "      <td>NÃO</td>\n",
              "      <td>NÃO</td>\n",
              "      <td>NÃO</td>\n",
              "      <td>NÃO</td>\n",
              "      <td>NÃO</td>\n",
              "      <td>NÃO</td>\n",
              "      <td>NÃO</td>\n",
              "      <td>NÃO</td>\n",
              "      <td>2018-05-06</td>\n",
              "    </tr>\n",
              "  </tbody>\n",
              "</table>\n",
              "<p>5 rows × 116 columns</p>\n",
              "</div>\n",
              "      <button class=\"colab-df-convert\" onclick=\"convertToInteractive('df-1c89564d-9682-4512-8d5d-bc5f336610da')\"\n",
              "              title=\"Convert this dataframe to an interactive table.\"\n",
              "              style=\"display:none;\">\n",
              "        \n",
              "  <svg xmlns=\"http://www.w3.org/2000/svg\" height=\"24px\"viewBox=\"0 0 24 24\"\n",
              "       width=\"24px\">\n",
              "    <path d=\"M0 0h24v24H0V0z\" fill=\"none\"/>\n",
              "    <path d=\"M18.56 5.44l.94 2.06.94-2.06 2.06-.94-2.06-.94-.94-2.06-.94 2.06-2.06.94zm-11 1L8.5 8.5l.94-2.06 2.06-.94-2.06-.94L8.5 2.5l-.94 2.06-2.06.94zm10 10l.94 2.06.94-2.06 2.06-.94-2.06-.94-.94-2.06-.94 2.06-2.06.94z\"/><path d=\"M17.41 7.96l-1.37-1.37c-.4-.4-.92-.59-1.43-.59-.52 0-1.04.2-1.43.59L10.3 9.45l-7.72 7.72c-.78.78-.78 2.05 0 2.83L4 21.41c.39.39.9.59 1.41.59.51 0 1.02-.2 1.41-.59l7.78-7.78 2.81-2.81c.8-.78.8-2.07 0-2.86zM5.41 20L4 18.59l7.72-7.72 1.47 1.35L5.41 20z\"/>\n",
              "  </svg>\n",
              "      </button>\n",
              "      \n",
              "  <style>\n",
              "    .colab-df-container {\n",
              "      display:flex;\n",
              "      flex-wrap:wrap;\n",
              "      gap: 12px;\n",
              "    }\n",
              "\n",
              "    .colab-df-convert {\n",
              "      background-color: #E8F0FE;\n",
              "      border: none;\n",
              "      border-radius: 50%;\n",
              "      cursor: pointer;\n",
              "      display: none;\n",
              "      fill: #1967D2;\n",
              "      height: 32px;\n",
              "      padding: 0 0 0 0;\n",
              "      width: 32px;\n",
              "    }\n",
              "\n",
              "    .colab-df-convert:hover {\n",
              "      background-color: #E2EBFA;\n",
              "      box-shadow: 0px 1px 2px rgba(60, 64, 67, 0.3), 0px 1px 3px 1px rgba(60, 64, 67, 0.15);\n",
              "      fill: #174EA6;\n",
              "    }\n",
              "\n",
              "    [theme=dark] .colab-df-convert {\n",
              "      background-color: #3B4455;\n",
              "      fill: #D2E3FC;\n",
              "    }\n",
              "\n",
              "    [theme=dark] .colab-df-convert:hover {\n",
              "      background-color: #434B5C;\n",
              "      box-shadow: 0px 1px 3px 1px rgba(0, 0, 0, 0.15);\n",
              "      filter: drop-shadow(0px 1px 2px rgba(0, 0, 0, 0.3));\n",
              "      fill: #FFFFFF;\n",
              "    }\n",
              "  </style>\n",
              "\n",
              "      <script>\n",
              "        const buttonEl =\n",
              "          document.querySelector('#df-1c89564d-9682-4512-8d5d-bc5f336610da button.colab-df-convert');\n",
              "        buttonEl.style.display =\n",
              "          google.colab.kernel.accessAllowed ? 'block' : 'none';\n",
              "\n",
              "        async function convertToInteractive(key) {\n",
              "          const element = document.querySelector('#df-1c89564d-9682-4512-8d5d-bc5f336610da');\n",
              "          const dataTable =\n",
              "            await google.colab.kernel.invokeFunction('convertToInteractive',\n",
              "                                                     [key], {});\n",
              "          if (!dataTable) return;\n",
              "\n",
              "          const docLinkHtml = 'Like what you see? Visit the ' +\n",
              "            '<a target=\"_blank\" href=https://colab.research.google.com/notebooks/data_table.ipynb>data table notebook</a>'\n",
              "            + ' to learn more about interactive tables.';\n",
              "          element.innerHTML = '';\n",
              "          dataTable['output_type'] = 'display_data';\n",
              "          await google.colab.output.renderOutput(dataTable, element);\n",
              "          const docLink = document.createElement('div');\n",
              "          docLink.innerHTML = docLinkHtml;\n",
              "          element.appendChild(docLink);\n",
              "        }\n",
              "      </script>\n",
              "    </div>\n",
              "  </div>\n",
              "  "
            ],
            "text/plain": [
              "   codigo_ocorrencia ocorrencia_classificacao  ... fator_87 dia_extracao\n",
              "0    201305055424986                 ACIDENTE  ...      NÃO   2018-05-06\n",
              "1    201805021421302                INCIDENTE  ...      NÃO   2018-05-06\n",
              "2    201311259977425          INCIDENTE GRAVE  ...      NÃO   2018-05-06\n",
              "3    201605160250139          INCIDENTE GRAVE  ...      NÃO   2018-05-06\n",
              "4    201103187273112                INCIDENTE  ...      NÃO   2018-05-06\n",
              "\n",
              "[5 rows x 116 columns]"
            ]
          },
          "metadata": {},
          "execution_count": 9
        }
      ]
    },
    {
      "cell_type": "code",
      "source": [
        "Acidente.tail()"
      ],
      "metadata": {
        "colab": {
          "base_uri": "https://localhost:8080/",
          "height": 456
        },
        "id": "QxBYfFEsRuRF",
        "outputId": "0b8cc008-fcf1-4c40-8883-8d3c01f3e374"
      },
      "execution_count": 10,
      "outputs": [
        {
          "output_type": "execute_result",
          "data": {
            "text/html": [
              "\n",
              "  <div id=\"df-7b1ff9ba-26a5-4833-9bb3-676a0bf313c8\">\n",
              "    <div class=\"colab-df-container\">\n",
              "      <div>\n",
              "<style scoped>\n",
              "    .dataframe tbody tr th:only-of-type {\n",
              "        vertical-align: middle;\n",
              "    }\n",
              "\n",
              "    .dataframe tbody tr th {\n",
              "        vertical-align: top;\n",
              "    }\n",
              "\n",
              "    .dataframe thead th {\n",
              "        text-align: right;\n",
              "    }\n",
              "</style>\n",
              "<table border=\"1\" class=\"dataframe\">\n",
              "  <thead>\n",
              "    <tr style=\"text-align: right;\">\n",
              "      <th></th>\n",
              "      <th>codigo_ocorrencia</th>\n",
              "      <th>ocorrencia_classificacao</th>\n",
              "      <th>ocorrencia_tipo</th>\n",
              "      <th>ocorrencia_dia</th>\n",
              "      <th>ocorrencia_horario</th>\n",
              "      <th>ocorrencia_cidade</th>\n",
              "      <th>ocorrencia_uf</th>\n",
              "      <th>ocorrencia_pais</th>\n",
              "      <th>ocorrencia_aerodromo</th>\n",
              "      <th>aeronave_matricula</th>\n",
              "      <th>aeronave_equipamento</th>\n",
              "      <th>aeronave_fabricante</th>\n",
              "      <th>aeronave_modelo</th>\n",
              "      <th>aeronave_tipo_motor</th>\n",
              "      <th>aeronave_quantidade_motores</th>\n",
              "      <th>aeronave_peso_maximo_decolagem</th>\n",
              "      <th>aeronave_quantidade_assentos</th>\n",
              "      <th>aeronave_ano_fabricacao</th>\n",
              "      <th>aeronave_pais_registro</th>\n",
              "      <th>aeronave_categoria_registro</th>\n",
              "      <th>aeronave_segmento_aviacao</th>\n",
              "      <th>aeronave_origem_voo</th>\n",
              "      <th>aeronave_destino_voo</th>\n",
              "      <th>aeronave_fase_voo</th>\n",
              "      <th>aeronave_tipo_operacao</th>\n",
              "      <th>aeronave_nivel_dano</th>\n",
              "      <th>quantidade_fatalidades</th>\n",
              "      <th>quantidade_fatores_contribuintes</th>\n",
              "      <th>fator_1</th>\n",
              "      <th>fator_2</th>\n",
              "      <th>fator_3</th>\n",
              "      <th>fator_4</th>\n",
              "      <th>fator_5</th>\n",
              "      <th>fator_6</th>\n",
              "      <th>fator_7</th>\n",
              "      <th>fator_8</th>\n",
              "      <th>fator_9</th>\n",
              "      <th>fator_10</th>\n",
              "      <th>fator_11</th>\n",
              "      <th>fator_12</th>\n",
              "      <th>...</th>\n",
              "      <th>fator_49</th>\n",
              "      <th>fator_50</th>\n",
              "      <th>fator_51</th>\n",
              "      <th>fator_52</th>\n",
              "      <th>fator_53</th>\n",
              "      <th>fator_54</th>\n",
              "      <th>fator_55</th>\n",
              "      <th>fator_56</th>\n",
              "      <th>fator_57</th>\n",
              "      <th>fator_58</th>\n",
              "      <th>fator_59</th>\n",
              "      <th>fator_60</th>\n",
              "      <th>fator_61</th>\n",
              "      <th>fator_62</th>\n",
              "      <th>fator_63</th>\n",
              "      <th>fator_64</th>\n",
              "      <th>fator_65</th>\n",
              "      <th>fator_66</th>\n",
              "      <th>fator_67</th>\n",
              "      <th>fator_68</th>\n",
              "      <th>fator_69</th>\n",
              "      <th>fator_70</th>\n",
              "      <th>fator_71</th>\n",
              "      <th>fator_72</th>\n",
              "      <th>fator_73</th>\n",
              "      <th>fator_74</th>\n",
              "      <th>fator_75</th>\n",
              "      <th>fator_76</th>\n",
              "      <th>fator_77</th>\n",
              "      <th>fator_78</th>\n",
              "      <th>fator_79</th>\n",
              "      <th>fator_80</th>\n",
              "      <th>fator_81</th>\n",
              "      <th>fator_82</th>\n",
              "      <th>fator_83</th>\n",
              "      <th>fator_84</th>\n",
              "      <th>fator_85</th>\n",
              "      <th>fator_86</th>\n",
              "      <th>fator_87</th>\n",
              "      <th>dia_extracao</th>\n",
              "    </tr>\n",
              "  </thead>\n",
              "  <tbody>\n",
              "    <tr>\n",
              "      <th>5111</th>\n",
              "      <td>200811264169752</td>\n",
              "      <td>INCIDENTE</td>\n",
              "      <td>FALHA OU MAU FUNCIONAMENTO DE SISTEMA / COMPON...</td>\n",
              "      <td>2008-11-26</td>\n",
              "      <td>16:40:00</td>\n",
              "      <td>NÃO IDENTIFICADA</td>\n",
              "      <td>SP</td>\n",
              "      <td>BRASIL</td>\n",
              "      <td>****</td>\n",
              "      <td>PRPSD</td>\n",
              "      <td>AVIÃO</td>\n",
              "      <td>EMBRAER</td>\n",
              "      <td>EMB-120ER</td>\n",
              "      <td>TURBOÉLICE</td>\n",
              "      <td>2.0</td>\n",
              "      <td>11990</td>\n",
              "      <td>34.0</td>\n",
              "      <td>1989.0</td>\n",
              "      <td>BRASIL</td>\n",
              "      <td>TPR</td>\n",
              "      <td>REGULAR</td>\n",
              "      <td>****</td>\n",
              "      <td>****</td>\n",
              "      <td>CRUZEIRO</td>\n",
              "      <td>VOO REGULAR</td>\n",
              "      <td>NENHUM</td>\n",
              "      <td>NaN</td>\n",
              "      <td>0</td>\n",
              "      <td>NÃO</td>\n",
              "      <td>NÃO</td>\n",
              "      <td>NÃO</td>\n",
              "      <td>NÃO</td>\n",
              "      <td>NÃO</td>\n",
              "      <td>NÃO</td>\n",
              "      <td>NÃO</td>\n",
              "      <td>NÃO</td>\n",
              "      <td>NÃO</td>\n",
              "      <td>NÃO</td>\n",
              "      <td>NÃO</td>\n",
              "      <td>NÃO</td>\n",
              "      <td>...</td>\n",
              "      <td>NÃO</td>\n",
              "      <td>NÃO</td>\n",
              "      <td>NÃO</td>\n",
              "      <td>NÃO</td>\n",
              "      <td>NÃO</td>\n",
              "      <td>NÃO</td>\n",
              "      <td>NÃO</td>\n",
              "      <td>NÃO</td>\n",
              "      <td>NÃO</td>\n",
              "      <td>NÃO</td>\n",
              "      <td>NÃO</td>\n",
              "      <td>NÃO</td>\n",
              "      <td>NÃO</td>\n",
              "      <td>NÃO</td>\n",
              "      <td>NÃO</td>\n",
              "      <td>NÃO</td>\n",
              "      <td>NÃO</td>\n",
              "      <td>NÃO</td>\n",
              "      <td>NÃO</td>\n",
              "      <td>NÃO</td>\n",
              "      <td>NÃO</td>\n",
              "      <td>NÃO</td>\n",
              "      <td>NÃO</td>\n",
              "      <td>NÃO</td>\n",
              "      <td>NÃO</td>\n",
              "      <td>NÃO</td>\n",
              "      <td>NÃO</td>\n",
              "      <td>NÃO</td>\n",
              "      <td>NÃO</td>\n",
              "      <td>NÃO</td>\n",
              "      <td>NÃO</td>\n",
              "      <td>NÃO</td>\n",
              "      <td>NÃO</td>\n",
              "      <td>NÃO</td>\n",
              "      <td>NÃO</td>\n",
              "      <td>NÃO</td>\n",
              "      <td>NÃO</td>\n",
              "      <td>NÃO</td>\n",
              "      <td>NÃO</td>\n",
              "      <td>2018-05-06</td>\n",
              "    </tr>\n",
              "    <tr>\n",
              "      <th>5112</th>\n",
              "      <td>200811224318981</td>\n",
              "      <td>INCIDENTE</td>\n",
              "      <td>TRÁFEGO AÉREO</td>\n",
              "      <td>2008-11-22</td>\n",
              "      <td>11:55:00</td>\n",
              "      <td>NÃO IDENTIFICADA</td>\n",
              "      <td>SP</td>\n",
              "      <td>BRASIL</td>\n",
              "      <td>****</td>\n",
              "      <td>PTMVE</td>\n",
              "      <td>AVIÃO</td>\n",
              "      <td>AIRBUS INDUSTRIE</td>\n",
              "      <td>A330-223</td>\n",
              "      <td>JATO</td>\n",
              "      <td>2.0</td>\n",
              "      <td>230000</td>\n",
              "      <td>243.0</td>\n",
              "      <td>2000.0</td>\n",
              "      <td>BRASIL</td>\n",
              "      <td>TPR</td>\n",
              "      <td>REGULAR</td>\n",
              "      <td>****</td>\n",
              "      <td>****</td>\n",
              "      <td>DESCIDA</td>\n",
              "      <td>VOO REGULAR</td>\n",
              "      <td>NENHUM</td>\n",
              "      <td>NaN</td>\n",
              "      <td>0</td>\n",
              "      <td>NÃO</td>\n",
              "      <td>NÃO</td>\n",
              "      <td>NÃO</td>\n",
              "      <td>NÃO</td>\n",
              "      <td>NÃO</td>\n",
              "      <td>NÃO</td>\n",
              "      <td>NÃO</td>\n",
              "      <td>NÃO</td>\n",
              "      <td>NÃO</td>\n",
              "      <td>NÃO</td>\n",
              "      <td>NÃO</td>\n",
              "      <td>NÃO</td>\n",
              "      <td>...</td>\n",
              "      <td>NÃO</td>\n",
              "      <td>NÃO</td>\n",
              "      <td>NÃO</td>\n",
              "      <td>NÃO</td>\n",
              "      <td>NÃO</td>\n",
              "      <td>NÃO</td>\n",
              "      <td>NÃO</td>\n",
              "      <td>NÃO</td>\n",
              "      <td>NÃO</td>\n",
              "      <td>NÃO</td>\n",
              "      <td>NÃO</td>\n",
              "      <td>NÃO</td>\n",
              "      <td>NÃO</td>\n",
              "      <td>NÃO</td>\n",
              "      <td>NÃO</td>\n",
              "      <td>NÃO</td>\n",
              "      <td>NÃO</td>\n",
              "      <td>NÃO</td>\n",
              "      <td>NÃO</td>\n",
              "      <td>NÃO</td>\n",
              "      <td>NÃO</td>\n",
              "      <td>NÃO</td>\n",
              "      <td>NÃO</td>\n",
              "      <td>NÃO</td>\n",
              "      <td>NÃO</td>\n",
              "      <td>NÃO</td>\n",
              "      <td>NÃO</td>\n",
              "      <td>NÃO</td>\n",
              "      <td>NÃO</td>\n",
              "      <td>NÃO</td>\n",
              "      <td>NÃO</td>\n",
              "      <td>NÃO</td>\n",
              "      <td>NÃO</td>\n",
              "      <td>NÃO</td>\n",
              "      <td>NÃO</td>\n",
              "      <td>NÃO</td>\n",
              "      <td>NÃO</td>\n",
              "      <td>NÃO</td>\n",
              "      <td>NÃO</td>\n",
              "      <td>2018-05-06</td>\n",
              "    </tr>\n",
              "    <tr>\n",
              "      <th>5113</th>\n",
              "      <td>200810318709738</td>\n",
              "      <td>INCIDENTE</td>\n",
              "      <td>POUSO SEM TREM</td>\n",
              "      <td>2008-10-31</td>\n",
              "      <td>18:00:00</td>\n",
              "      <td>NÃO IDENTIFICADA</td>\n",
              "      <td>GO</td>\n",
              "      <td>BRASIL</td>\n",
              "      <td>****</td>\n",
              "      <td>PTLHE</td>\n",
              "      <td>AVIÃO</td>\n",
              "      <td>PIPER AIRCRAFT</td>\n",
              "      <td>PA-31</td>\n",
              "      <td>PISTÃO</td>\n",
              "      <td>2.0</td>\n",
              "      <td>2948</td>\n",
              "      <td>8.0</td>\n",
              "      <td>1974.0</td>\n",
              "      <td>BRASIL</td>\n",
              "      <td>TPP</td>\n",
              "      <td>PARTICULAR</td>\n",
              "      <td>****</td>\n",
              "      <td>****</td>\n",
              "      <td>POUSO</td>\n",
              "      <td>VOO PRIVADO</td>\n",
              "      <td>SUBSTANCIAL</td>\n",
              "      <td>NaN</td>\n",
              "      <td>0</td>\n",
              "      <td>NÃO</td>\n",
              "      <td>NÃO</td>\n",
              "      <td>NÃO</td>\n",
              "      <td>NÃO</td>\n",
              "      <td>NÃO</td>\n",
              "      <td>NÃO</td>\n",
              "      <td>NÃO</td>\n",
              "      <td>NÃO</td>\n",
              "      <td>NÃO</td>\n",
              "      <td>NÃO</td>\n",
              "      <td>NÃO</td>\n",
              "      <td>NÃO</td>\n",
              "      <td>...</td>\n",
              "      <td>NÃO</td>\n",
              "      <td>NÃO</td>\n",
              "      <td>NÃO</td>\n",
              "      <td>NÃO</td>\n",
              "      <td>NÃO</td>\n",
              "      <td>NÃO</td>\n",
              "      <td>NÃO</td>\n",
              "      <td>NÃO</td>\n",
              "      <td>NÃO</td>\n",
              "      <td>NÃO</td>\n",
              "      <td>NÃO</td>\n",
              "      <td>NÃO</td>\n",
              "      <td>NÃO</td>\n",
              "      <td>NÃO</td>\n",
              "      <td>NÃO</td>\n",
              "      <td>NÃO</td>\n",
              "      <td>NÃO</td>\n",
              "      <td>NÃO</td>\n",
              "      <td>NÃO</td>\n",
              "      <td>NÃO</td>\n",
              "      <td>NÃO</td>\n",
              "      <td>NÃO</td>\n",
              "      <td>NÃO</td>\n",
              "      <td>NÃO</td>\n",
              "      <td>NÃO</td>\n",
              "      <td>NÃO</td>\n",
              "      <td>NÃO</td>\n",
              "      <td>NÃO</td>\n",
              "      <td>NÃO</td>\n",
              "      <td>NÃO</td>\n",
              "      <td>NÃO</td>\n",
              "      <td>NÃO</td>\n",
              "      <td>NÃO</td>\n",
              "      <td>NÃO</td>\n",
              "      <td>NÃO</td>\n",
              "      <td>NÃO</td>\n",
              "      <td>NÃO</td>\n",
              "      <td>NÃO</td>\n",
              "      <td>NÃO</td>\n",
              "      <td>2018-05-06</td>\n",
              "    </tr>\n",
              "    <tr>\n",
              "      <th>5114</th>\n",
              "      <td>201309012098180</td>\n",
              "      <td>ACIDENTE</td>\n",
              "      <td>CAUSADO POR FENÔMENO METEOROLÓGICO EM VOO</td>\n",
              "      <td>2013-09-02</td>\n",
              "      <td>02:54:00</td>\n",
              "      <td>ÁGUAS INTERNACIONAIS</td>\n",
              "      <td>***</td>\n",
              "      <td>BRASIL</td>\n",
              "      <td>****</td>\n",
              "      <td>PTMVL</td>\n",
              "      <td>AVIÃO</td>\n",
              "      <td>AIRBUS INDUSTRIE</td>\n",
              "      <td>A330-203</td>\n",
              "      <td>JATO</td>\n",
              "      <td>2.0</td>\n",
              "      <td>233000</td>\n",
              "      <td>242.0</td>\n",
              "      <td>2005.0</td>\n",
              "      <td>BRASIL</td>\n",
              "      <td>TPR</td>\n",
              "      <td>REGULAR</td>\n",
              "      <td>LEMD</td>\n",
              "      <td>SBGR</td>\n",
              "      <td>CRUZEIRO</td>\n",
              "      <td>VOO REGULAR</td>\n",
              "      <td>LEVE</td>\n",
              "      <td>NaN</td>\n",
              "      <td>0</td>\n",
              "      <td>NÃO</td>\n",
              "      <td>NÃO</td>\n",
              "      <td>NÃO</td>\n",
              "      <td>NÃO</td>\n",
              "      <td>NÃO</td>\n",
              "      <td>NÃO</td>\n",
              "      <td>NÃO</td>\n",
              "      <td>NÃO</td>\n",
              "      <td>NÃO</td>\n",
              "      <td>NÃO</td>\n",
              "      <td>NÃO</td>\n",
              "      <td>NÃO</td>\n",
              "      <td>...</td>\n",
              "      <td>NÃO</td>\n",
              "      <td>NÃO</td>\n",
              "      <td>NÃO</td>\n",
              "      <td>NÃO</td>\n",
              "      <td>NÃO</td>\n",
              "      <td>NÃO</td>\n",
              "      <td>NÃO</td>\n",
              "      <td>NÃO</td>\n",
              "      <td>NÃO</td>\n",
              "      <td>NÃO</td>\n",
              "      <td>NÃO</td>\n",
              "      <td>NÃO</td>\n",
              "      <td>NÃO</td>\n",
              "      <td>NÃO</td>\n",
              "      <td>NÃO</td>\n",
              "      <td>NÃO</td>\n",
              "      <td>NÃO</td>\n",
              "      <td>NÃO</td>\n",
              "      <td>NÃO</td>\n",
              "      <td>NÃO</td>\n",
              "      <td>NÃO</td>\n",
              "      <td>NÃO</td>\n",
              "      <td>NÃO</td>\n",
              "      <td>NÃO</td>\n",
              "      <td>NÃO</td>\n",
              "      <td>NÃO</td>\n",
              "      <td>NÃO</td>\n",
              "      <td>NÃO</td>\n",
              "      <td>NÃO</td>\n",
              "      <td>NÃO</td>\n",
              "      <td>NÃO</td>\n",
              "      <td>NÃO</td>\n",
              "      <td>NÃO</td>\n",
              "      <td>NÃO</td>\n",
              "      <td>NÃO</td>\n",
              "      <td>NÃO</td>\n",
              "      <td>NÃO</td>\n",
              "      <td>NÃO</td>\n",
              "      <td>NÃO</td>\n",
              "      <td>2018-05-06</td>\n",
              "    </tr>\n",
              "    <tr>\n",
              "      <th>5115</th>\n",
              "      <td>200803063018556</td>\n",
              "      <td>INCIDENTE</td>\n",
              "      <td>FALHA OU MAU FUNCIONAMENTO DE SISTEMA / COMPON...</td>\n",
              "      <td>2008-03-06</td>\n",
              "      <td>07:55:00</td>\n",
              "      <td>ÁGUAS INTERNACIONAIS</td>\n",
              "      <td>***</td>\n",
              "      <td>BRASIL</td>\n",
              "      <td>****</td>\n",
              "      <td>PTMVA</td>\n",
              "      <td>AVIÃO</td>\n",
              "      <td>AIRBUS INDUSTRIE</td>\n",
              "      <td>A330-223</td>\n",
              "      <td>JATO</td>\n",
              "      <td>2.0</td>\n",
              "      <td>230000</td>\n",
              "      <td>243.0</td>\n",
              "      <td>1998.0</td>\n",
              "      <td>BRASIL</td>\n",
              "      <td>TPR</td>\n",
              "      <td>REGULAR</td>\n",
              "      <td>****</td>\n",
              "      <td>****</td>\n",
              "      <td>CRUZEIRO</td>\n",
              "      <td>VOO REGULAR</td>\n",
              "      <td>NENHUM</td>\n",
              "      <td>NaN</td>\n",
              "      <td>0</td>\n",
              "      <td>NÃO</td>\n",
              "      <td>NÃO</td>\n",
              "      <td>NÃO</td>\n",
              "      <td>NÃO</td>\n",
              "      <td>NÃO</td>\n",
              "      <td>NÃO</td>\n",
              "      <td>NÃO</td>\n",
              "      <td>NÃO</td>\n",
              "      <td>NÃO</td>\n",
              "      <td>NÃO</td>\n",
              "      <td>NÃO</td>\n",
              "      <td>NÃO</td>\n",
              "      <td>...</td>\n",
              "      <td>NÃO</td>\n",
              "      <td>NÃO</td>\n",
              "      <td>NÃO</td>\n",
              "      <td>NÃO</td>\n",
              "      <td>NÃO</td>\n",
              "      <td>NÃO</td>\n",
              "      <td>NÃO</td>\n",
              "      <td>NÃO</td>\n",
              "      <td>NÃO</td>\n",
              "      <td>NÃO</td>\n",
              "      <td>NÃO</td>\n",
              "      <td>NÃO</td>\n",
              "      <td>NÃO</td>\n",
              "      <td>NÃO</td>\n",
              "      <td>NÃO</td>\n",
              "      <td>NÃO</td>\n",
              "      <td>NÃO</td>\n",
              "      <td>NÃO</td>\n",
              "      <td>NÃO</td>\n",
              "      <td>NÃO</td>\n",
              "      <td>NÃO</td>\n",
              "      <td>NÃO</td>\n",
              "      <td>NÃO</td>\n",
              "      <td>NÃO</td>\n",
              "      <td>NÃO</td>\n",
              "      <td>NÃO</td>\n",
              "      <td>NÃO</td>\n",
              "      <td>NÃO</td>\n",
              "      <td>NÃO</td>\n",
              "      <td>NÃO</td>\n",
              "      <td>NÃO</td>\n",
              "      <td>NÃO</td>\n",
              "      <td>NÃO</td>\n",
              "      <td>NÃO</td>\n",
              "      <td>NÃO</td>\n",
              "      <td>NÃO</td>\n",
              "      <td>NÃO</td>\n",
              "      <td>NÃO</td>\n",
              "      <td>NÃO</td>\n",
              "      <td>2018-05-06</td>\n",
              "    </tr>\n",
              "  </tbody>\n",
              "</table>\n",
              "<p>5 rows × 116 columns</p>\n",
              "</div>\n",
              "      <button class=\"colab-df-convert\" onclick=\"convertToInteractive('df-7b1ff9ba-26a5-4833-9bb3-676a0bf313c8')\"\n",
              "              title=\"Convert this dataframe to an interactive table.\"\n",
              "              style=\"display:none;\">\n",
              "        \n",
              "  <svg xmlns=\"http://www.w3.org/2000/svg\" height=\"24px\"viewBox=\"0 0 24 24\"\n",
              "       width=\"24px\">\n",
              "    <path d=\"M0 0h24v24H0V0z\" fill=\"none\"/>\n",
              "    <path d=\"M18.56 5.44l.94 2.06.94-2.06 2.06-.94-2.06-.94-.94-2.06-.94 2.06-2.06.94zm-11 1L8.5 8.5l.94-2.06 2.06-.94-2.06-.94L8.5 2.5l-.94 2.06-2.06.94zm10 10l.94 2.06.94-2.06 2.06-.94-2.06-.94-.94-2.06-.94 2.06-2.06.94z\"/><path d=\"M17.41 7.96l-1.37-1.37c-.4-.4-.92-.59-1.43-.59-.52 0-1.04.2-1.43.59L10.3 9.45l-7.72 7.72c-.78.78-.78 2.05 0 2.83L4 21.41c.39.39.9.59 1.41.59.51 0 1.02-.2 1.41-.59l7.78-7.78 2.81-2.81c.8-.78.8-2.07 0-2.86zM5.41 20L4 18.59l7.72-7.72 1.47 1.35L5.41 20z\"/>\n",
              "  </svg>\n",
              "      </button>\n",
              "      \n",
              "  <style>\n",
              "    .colab-df-container {\n",
              "      display:flex;\n",
              "      flex-wrap:wrap;\n",
              "      gap: 12px;\n",
              "    }\n",
              "\n",
              "    .colab-df-convert {\n",
              "      background-color: #E8F0FE;\n",
              "      border: none;\n",
              "      border-radius: 50%;\n",
              "      cursor: pointer;\n",
              "      display: none;\n",
              "      fill: #1967D2;\n",
              "      height: 32px;\n",
              "      padding: 0 0 0 0;\n",
              "      width: 32px;\n",
              "    }\n",
              "\n",
              "    .colab-df-convert:hover {\n",
              "      background-color: #E2EBFA;\n",
              "      box-shadow: 0px 1px 2px rgba(60, 64, 67, 0.3), 0px 1px 3px 1px rgba(60, 64, 67, 0.15);\n",
              "      fill: #174EA6;\n",
              "    }\n",
              "\n",
              "    [theme=dark] .colab-df-convert {\n",
              "      background-color: #3B4455;\n",
              "      fill: #D2E3FC;\n",
              "    }\n",
              "\n",
              "    [theme=dark] .colab-df-convert:hover {\n",
              "      background-color: #434B5C;\n",
              "      box-shadow: 0px 1px 3px 1px rgba(0, 0, 0, 0.15);\n",
              "      filter: drop-shadow(0px 1px 2px rgba(0, 0, 0, 0.3));\n",
              "      fill: #FFFFFF;\n",
              "    }\n",
              "  </style>\n",
              "\n",
              "      <script>\n",
              "        const buttonEl =\n",
              "          document.querySelector('#df-7b1ff9ba-26a5-4833-9bb3-676a0bf313c8 button.colab-df-convert');\n",
              "        buttonEl.style.display =\n",
              "          google.colab.kernel.accessAllowed ? 'block' : 'none';\n",
              "\n",
              "        async function convertToInteractive(key) {\n",
              "          const element = document.querySelector('#df-7b1ff9ba-26a5-4833-9bb3-676a0bf313c8');\n",
              "          const dataTable =\n",
              "            await google.colab.kernel.invokeFunction('convertToInteractive',\n",
              "                                                     [key], {});\n",
              "          if (!dataTable) return;\n",
              "\n",
              "          const docLinkHtml = 'Like what you see? Visit the ' +\n",
              "            '<a target=\"_blank\" href=https://colab.research.google.com/notebooks/data_table.ipynb>data table notebook</a>'\n",
              "            + ' to learn more about interactive tables.';\n",
              "          element.innerHTML = '';\n",
              "          dataTable['output_type'] = 'display_data';\n",
              "          await google.colab.output.renderOutput(dataTable, element);\n",
              "          const docLink = document.createElement('div');\n",
              "          docLink.innerHTML = docLinkHtml;\n",
              "          element.appendChild(docLink);\n",
              "        }\n",
              "      </script>\n",
              "    </div>\n",
              "  </div>\n",
              "  "
            ],
            "text/plain": [
              "      codigo_ocorrencia ocorrencia_classificacao  ... fator_87 dia_extracao\n",
              "5111    200811264169752                INCIDENTE  ...      NÃO   2018-05-06\n",
              "5112    200811224318981                INCIDENTE  ...      NÃO   2018-05-06\n",
              "5113    200810318709738                INCIDENTE  ...      NÃO   2018-05-06\n",
              "5114    201309012098180                 ACIDENTE  ...      NÃO   2018-05-06\n",
              "5115    200803063018556                INCIDENTE  ...      NÃO   2018-05-06\n",
              "\n",
              "[5 rows x 116 columns]"
            ]
          },
          "metadata": {},
          "execution_count": 10
        }
      ]
    },
    {
      "cell_type": "markdown",
      "source": [
        "**Acima você pode conferir as primeiras e últimas linhas do dataset e o total de linhas e colunas.E serão removidas algumas  colunas, visto não serem necessárias para o projeto.**"
      ],
      "metadata": {
        "id": "Px9J1RiQR9WO"
      }
    },
    {
      "cell_type": "code",
      "source": [
        "Acidente.drop(['codigo_ocorrencia', 'ocorrencia_dia', 'ocorrencia_horario','ocorrencia_cidade','ocorrencia_uf','ocorrencia_pais','ocorrencia_aerodromo','aeronave_matricula','aeronave_peso_maximo_decolagem','aeronave_quantidade_assentos','aeronave_pais_registro','aeronave_categoria_registro','aeronave_origem_voo','aeronave_destino_voo',\n",
        "               'quantidade_fatalidades','quantidade_fatores_contribuintes','fator_1','fator_2','fator_3','fator_4','fator_5','fator_6','dia_extracao'],axis=1, inplace=True )"
      ],
      "metadata": {
        "id": "lJD4zcfEUbtV"
      },
      "execution_count": 11,
      "outputs": []
    },
    {
      "cell_type": "code",
      "source": [
        "Acidente.drop(Acidente.columns[[13,14,15,16,17,18,19,20,21,22,23,24,25,26,27,28,29]], axis=1, inplace=True)"
      ],
      "metadata": {
        "id": "q59Ci624Z_rk"
      },
      "execution_count": 12,
      "outputs": []
    },
    {
      "cell_type": "code",
      "source": [
        "Acidente.drop(Acidente.columns[[12,30,31,32,33,34,35,36,37,38,39,40,41,42,43,44,45,46,47,48,49,50,51]], axis=1, inplace=True)"
      ],
      "metadata": {
        "id": "9J-MHFDGb2GF"
      },
      "execution_count": 13,
      "outputs": []
    },
    {
      "cell_type": "code",
      "source": [
        "Acidente.drop(Acidente.columns[[13,14,15,16,17,18,19,20,21,22,23,24,25,26,27,28,29,30]], axis=1, inplace=True)"
      ],
      "metadata": {
        "id": "PCPhR6Tico-9"
      },
      "execution_count": 14,
      "outputs": []
    },
    {
      "cell_type": "code",
      "source": [
        "Acidente.drop(Acidente.columns[[13,14,15,16,17,18,19,20,21,22,23,24,25,26,27,28,29,30]], axis=1, inplace=True)"
      ],
      "metadata": {
        "id": "y4t5fGwIdlV_"
      },
      "execution_count": 15,
      "outputs": []
    },
    {
      "cell_type": "code",
      "source": [
        "Acidente.drop(Acidente.columns[[13,14,15,16,]], axis=1, inplace=True)"
      ],
      "metadata": {
        "id": "Zh3wlbcAd0qk"
      },
      "execution_count": 16,
      "outputs": []
    },
    {
      "cell_type": "code",
      "source": [
        "Acidente.drop(['fator_25'], axis=1, inplace=True)"
      ],
      "metadata": {
        "id": "z6jxByx1eEmf"
      },
      "execution_count": 17,
      "outputs": []
    },
    {
      "cell_type": "code",
      "source": [
        "Acidente.head(1)"
      ],
      "metadata": {
        "colab": {
          "base_uri": "https://localhost:8080/",
          "height": 162
        },
        "id": "DAqcMIO_UuOU",
        "outputId": "d42ea510-4c7d-4966-eb86-fc623c8d1064"
      },
      "execution_count": 18,
      "outputs": [
        {
          "output_type": "execute_result",
          "data": {
            "text/html": [
              "\n",
              "  <div id=\"df-e7864b7e-c2e9-4d5d-9051-621474d8a8fa\">\n",
              "    <div class=\"colab-df-container\">\n",
              "      <div>\n",
              "<style scoped>\n",
              "    .dataframe tbody tr th:only-of-type {\n",
              "        vertical-align: middle;\n",
              "    }\n",
              "\n",
              "    .dataframe tbody tr th {\n",
              "        vertical-align: top;\n",
              "    }\n",
              "\n",
              "    .dataframe thead th {\n",
              "        text-align: right;\n",
              "    }\n",
              "</style>\n",
              "<table border=\"1\" class=\"dataframe\">\n",
              "  <thead>\n",
              "    <tr style=\"text-align: right;\">\n",
              "      <th></th>\n",
              "      <th>ocorrencia_classificacao</th>\n",
              "      <th>ocorrencia_tipo</th>\n",
              "      <th>aeronave_equipamento</th>\n",
              "      <th>aeronave_fabricante</th>\n",
              "      <th>aeronave_modelo</th>\n",
              "      <th>aeronave_tipo_motor</th>\n",
              "      <th>aeronave_quantidade_motores</th>\n",
              "      <th>aeronave_ano_fabricacao</th>\n",
              "      <th>aeronave_segmento_aviacao</th>\n",
              "      <th>aeronave_fase_voo</th>\n",
              "      <th>aeronave_tipo_operacao</th>\n",
              "      <th>aeronave_nivel_dano</th>\n",
              "    </tr>\n",
              "  </thead>\n",
              "  <tbody>\n",
              "    <tr>\n",
              "      <th>0</th>\n",
              "      <td>ACIDENTE</td>\n",
              "      <td>FALHA DO MOTOR EM VOO</td>\n",
              "      <td>ULTRALEVE</td>\n",
              "      <td>ORION LTDA</td>\n",
              "      <td>F1A EAGLE</td>\n",
              "      <td>PISTÃO</td>\n",
              "      <td>1.0</td>\n",
              "      <td>2005.0</td>\n",
              "      <td>EXPERIMENTAL</td>\n",
              "      <td>CIRCUITO DE TRÁFEGO</td>\n",
              "      <td>VOO EXPERIMENTAL</td>\n",
              "      <td>SUBSTANCIAL</td>\n",
              "    </tr>\n",
              "  </tbody>\n",
              "</table>\n",
              "</div>\n",
              "      <button class=\"colab-df-convert\" onclick=\"convertToInteractive('df-e7864b7e-c2e9-4d5d-9051-621474d8a8fa')\"\n",
              "              title=\"Convert this dataframe to an interactive table.\"\n",
              "              style=\"display:none;\">\n",
              "        \n",
              "  <svg xmlns=\"http://www.w3.org/2000/svg\" height=\"24px\"viewBox=\"0 0 24 24\"\n",
              "       width=\"24px\">\n",
              "    <path d=\"M0 0h24v24H0V0z\" fill=\"none\"/>\n",
              "    <path d=\"M18.56 5.44l.94 2.06.94-2.06 2.06-.94-2.06-.94-.94-2.06-.94 2.06-2.06.94zm-11 1L8.5 8.5l.94-2.06 2.06-.94-2.06-.94L8.5 2.5l-.94 2.06-2.06.94zm10 10l.94 2.06.94-2.06 2.06-.94-2.06-.94-.94-2.06-.94 2.06-2.06.94z\"/><path d=\"M17.41 7.96l-1.37-1.37c-.4-.4-.92-.59-1.43-.59-.52 0-1.04.2-1.43.59L10.3 9.45l-7.72 7.72c-.78.78-.78 2.05 0 2.83L4 21.41c.39.39.9.59 1.41.59.51 0 1.02-.2 1.41-.59l7.78-7.78 2.81-2.81c.8-.78.8-2.07 0-2.86zM5.41 20L4 18.59l7.72-7.72 1.47 1.35L5.41 20z\"/>\n",
              "  </svg>\n",
              "      </button>\n",
              "      \n",
              "  <style>\n",
              "    .colab-df-container {\n",
              "      display:flex;\n",
              "      flex-wrap:wrap;\n",
              "      gap: 12px;\n",
              "    }\n",
              "\n",
              "    .colab-df-convert {\n",
              "      background-color: #E8F0FE;\n",
              "      border: none;\n",
              "      border-radius: 50%;\n",
              "      cursor: pointer;\n",
              "      display: none;\n",
              "      fill: #1967D2;\n",
              "      height: 32px;\n",
              "      padding: 0 0 0 0;\n",
              "      width: 32px;\n",
              "    }\n",
              "\n",
              "    .colab-df-convert:hover {\n",
              "      background-color: #E2EBFA;\n",
              "      box-shadow: 0px 1px 2px rgba(60, 64, 67, 0.3), 0px 1px 3px 1px rgba(60, 64, 67, 0.15);\n",
              "      fill: #174EA6;\n",
              "    }\n",
              "\n",
              "    [theme=dark] .colab-df-convert {\n",
              "      background-color: #3B4455;\n",
              "      fill: #D2E3FC;\n",
              "    }\n",
              "\n",
              "    [theme=dark] .colab-df-convert:hover {\n",
              "      background-color: #434B5C;\n",
              "      box-shadow: 0px 1px 3px 1px rgba(0, 0, 0, 0.15);\n",
              "      filter: drop-shadow(0px 1px 2px rgba(0, 0, 0, 0.3));\n",
              "      fill: #FFFFFF;\n",
              "    }\n",
              "  </style>\n",
              "\n",
              "      <script>\n",
              "        const buttonEl =\n",
              "          document.querySelector('#df-e7864b7e-c2e9-4d5d-9051-621474d8a8fa button.colab-df-convert');\n",
              "        buttonEl.style.display =\n",
              "          google.colab.kernel.accessAllowed ? 'block' : 'none';\n",
              "\n",
              "        async function convertToInteractive(key) {\n",
              "          const element = document.querySelector('#df-e7864b7e-c2e9-4d5d-9051-621474d8a8fa');\n",
              "          const dataTable =\n",
              "            await google.colab.kernel.invokeFunction('convertToInteractive',\n",
              "                                                     [key], {});\n",
              "          if (!dataTable) return;\n",
              "\n",
              "          const docLinkHtml = 'Like what you see? Visit the ' +\n",
              "            '<a target=\"_blank\" href=https://colab.research.google.com/notebooks/data_table.ipynb>data table notebook</a>'\n",
              "            + ' to learn more about interactive tables.';\n",
              "          element.innerHTML = '';\n",
              "          dataTable['output_type'] = 'display_data';\n",
              "          await google.colab.output.renderOutput(dataTable, element);\n",
              "          const docLink = document.createElement('div');\n",
              "          docLink.innerHTML = docLinkHtml;\n",
              "          element.appendChild(docLink);\n",
              "        }\n",
              "      </script>\n",
              "    </div>\n",
              "  </div>\n",
              "  "
            ],
            "text/plain": [
              "  ocorrencia_classificacao  ... aeronave_nivel_dano\n",
              "0                 ACIDENTE  ...         SUBSTANCIAL\n",
              "\n",
              "[1 rows x 12 columns]"
            ]
          },
          "metadata": {},
          "execution_count": 18
        }
      ]
    },
    {
      "cell_type": "markdown",
      "source": [
        "**Vejamos um resumo do dataset**"
      ],
      "metadata": {
        "id": "3_hviaQ9e0Qm"
      }
    },
    {
      "cell_type": "code",
      "source": [
        "Acidente.describe()"
      ],
      "metadata": {
        "colab": {
          "base_uri": "https://localhost:8080/",
          "height": 300
        },
        "id": "yRHw-avye0pX",
        "outputId": "ffa942c8-e7f1-4014-bd2f-5ac3d80a1ce0"
      },
      "execution_count": 19,
      "outputs": [
        {
          "output_type": "execute_result",
          "data": {
            "text/html": [
              "\n",
              "  <div id=\"df-bcc66b0e-5e8a-4baa-b1fd-df1b1eadebb4\">\n",
              "    <div class=\"colab-df-container\">\n",
              "      <div>\n",
              "<style scoped>\n",
              "    .dataframe tbody tr th:only-of-type {\n",
              "        vertical-align: middle;\n",
              "    }\n",
              "\n",
              "    .dataframe tbody tr th {\n",
              "        vertical-align: top;\n",
              "    }\n",
              "\n",
              "    .dataframe thead th {\n",
              "        text-align: right;\n",
              "    }\n",
              "</style>\n",
              "<table border=\"1\" class=\"dataframe\">\n",
              "  <thead>\n",
              "    <tr style=\"text-align: right;\">\n",
              "      <th></th>\n",
              "      <th>aeronave_quantidade_motores</th>\n",
              "      <th>aeronave_ano_fabricacao</th>\n",
              "    </tr>\n",
              "  </thead>\n",
              "  <tbody>\n",
              "    <tr>\n",
              "      <th>count</th>\n",
              "      <td>5087.000000</td>\n",
              "      <td>5053.00000</td>\n",
              "    </tr>\n",
              "    <tr>\n",
              "      <th>mean</th>\n",
              "      <td>1.493218</td>\n",
              "      <td>1928.06887</td>\n",
              "    </tr>\n",
              "    <tr>\n",
              "      <th>std</th>\n",
              "      <td>0.560096</td>\n",
              "      <td>350.12826</td>\n",
              "    </tr>\n",
              "    <tr>\n",
              "      <th>min</th>\n",
              "      <td>0.000000</td>\n",
              "      <td>0.00000</td>\n",
              "    </tr>\n",
              "    <tr>\n",
              "      <th>25%</th>\n",
              "      <td>1.000000</td>\n",
              "      <td>1979.00000</td>\n",
              "    </tr>\n",
              "    <tr>\n",
              "      <th>50%</th>\n",
              "      <td>1.000000</td>\n",
              "      <td>1992.00000</td>\n",
              "    </tr>\n",
              "    <tr>\n",
              "      <th>75%</th>\n",
              "      <td>2.000000</td>\n",
              "      <td>2006.00000</td>\n",
              "    </tr>\n",
              "    <tr>\n",
              "      <th>max</th>\n",
              "      <td>4.000000</td>\n",
              "      <td>2017.00000</td>\n",
              "    </tr>\n",
              "  </tbody>\n",
              "</table>\n",
              "</div>\n",
              "      <button class=\"colab-df-convert\" onclick=\"convertToInteractive('df-bcc66b0e-5e8a-4baa-b1fd-df1b1eadebb4')\"\n",
              "              title=\"Convert this dataframe to an interactive table.\"\n",
              "              style=\"display:none;\">\n",
              "        \n",
              "  <svg xmlns=\"http://www.w3.org/2000/svg\" height=\"24px\"viewBox=\"0 0 24 24\"\n",
              "       width=\"24px\">\n",
              "    <path d=\"M0 0h24v24H0V0z\" fill=\"none\"/>\n",
              "    <path d=\"M18.56 5.44l.94 2.06.94-2.06 2.06-.94-2.06-.94-.94-2.06-.94 2.06-2.06.94zm-11 1L8.5 8.5l.94-2.06 2.06-.94-2.06-.94L8.5 2.5l-.94 2.06-2.06.94zm10 10l.94 2.06.94-2.06 2.06-.94-2.06-.94-.94-2.06-.94 2.06-2.06.94z\"/><path d=\"M17.41 7.96l-1.37-1.37c-.4-.4-.92-.59-1.43-.59-.52 0-1.04.2-1.43.59L10.3 9.45l-7.72 7.72c-.78.78-.78 2.05 0 2.83L4 21.41c.39.39.9.59 1.41.59.51 0 1.02-.2 1.41-.59l7.78-7.78 2.81-2.81c.8-.78.8-2.07 0-2.86zM5.41 20L4 18.59l7.72-7.72 1.47 1.35L5.41 20z\"/>\n",
              "  </svg>\n",
              "      </button>\n",
              "      \n",
              "  <style>\n",
              "    .colab-df-container {\n",
              "      display:flex;\n",
              "      flex-wrap:wrap;\n",
              "      gap: 12px;\n",
              "    }\n",
              "\n",
              "    .colab-df-convert {\n",
              "      background-color: #E8F0FE;\n",
              "      border: none;\n",
              "      border-radius: 50%;\n",
              "      cursor: pointer;\n",
              "      display: none;\n",
              "      fill: #1967D2;\n",
              "      height: 32px;\n",
              "      padding: 0 0 0 0;\n",
              "      width: 32px;\n",
              "    }\n",
              "\n",
              "    .colab-df-convert:hover {\n",
              "      background-color: #E2EBFA;\n",
              "      box-shadow: 0px 1px 2px rgba(60, 64, 67, 0.3), 0px 1px 3px 1px rgba(60, 64, 67, 0.15);\n",
              "      fill: #174EA6;\n",
              "    }\n",
              "\n",
              "    [theme=dark] .colab-df-convert {\n",
              "      background-color: #3B4455;\n",
              "      fill: #D2E3FC;\n",
              "    }\n",
              "\n",
              "    [theme=dark] .colab-df-convert:hover {\n",
              "      background-color: #434B5C;\n",
              "      box-shadow: 0px 1px 3px 1px rgba(0, 0, 0, 0.15);\n",
              "      filter: drop-shadow(0px 1px 2px rgba(0, 0, 0, 0.3));\n",
              "      fill: #FFFFFF;\n",
              "    }\n",
              "  </style>\n",
              "\n",
              "      <script>\n",
              "        const buttonEl =\n",
              "          document.querySelector('#df-bcc66b0e-5e8a-4baa-b1fd-df1b1eadebb4 button.colab-df-convert');\n",
              "        buttonEl.style.display =\n",
              "          google.colab.kernel.accessAllowed ? 'block' : 'none';\n",
              "\n",
              "        async function convertToInteractive(key) {\n",
              "          const element = document.querySelector('#df-bcc66b0e-5e8a-4baa-b1fd-df1b1eadebb4');\n",
              "          const dataTable =\n",
              "            await google.colab.kernel.invokeFunction('convertToInteractive',\n",
              "                                                     [key], {});\n",
              "          if (!dataTable) return;\n",
              "\n",
              "          const docLinkHtml = 'Like what you see? Visit the ' +\n",
              "            '<a target=\"_blank\" href=https://colab.research.google.com/notebooks/data_table.ipynb>data table notebook</a>'\n",
              "            + ' to learn more about interactive tables.';\n",
              "          element.innerHTML = '';\n",
              "          dataTable['output_type'] = 'display_data';\n",
              "          await google.colab.output.renderOutput(dataTable, element);\n",
              "          const docLink = document.createElement('div');\n",
              "          docLink.innerHTML = docLinkHtml;\n",
              "          element.appendChild(docLink);\n",
              "        }\n",
              "      </script>\n",
              "    </div>\n",
              "  </div>\n",
              "  "
            ],
            "text/plain": [
              "       aeronave_quantidade_motores  aeronave_ano_fabricacao\n",
              "count                  5087.000000               5053.00000\n",
              "mean                      1.493218               1928.06887\n",
              "std                       0.560096                350.12826\n",
              "min                       0.000000                  0.00000\n",
              "25%                       1.000000               1979.00000\n",
              "50%                       1.000000               1992.00000\n",
              "75%                       2.000000               2006.00000\n",
              "max                       4.000000               2017.00000"
            ]
          },
          "metadata": {},
          "execution_count": 19
        }
      ]
    },
    {
      "cell_type": "markdown",
      "source": [
        "**Em  relação às variáveis numéricas, se percebe que  a média de  quantidade de motores é de 1,5 , porém tem aeronaves com zero de  quantidade, assim como a especificação do ano de  fabricação se apresenta  com zero, o que indica que  há um erro. Será avaliado, dessa  forma  os dados missing.**"
      ],
      "metadata": {
        "id": "QiG59qYEfGWE"
      }
    },
    {
      "cell_type": "code",
      "source": [
        "Acidente.isnull()"
      ],
      "metadata": {
        "id": "gHW-yIdogPVM"
      },
      "execution_count": null,
      "outputs": []
    },
    {
      "cell_type": "code",
      "source": [
        "Acidente.isnull().sum()"
      ],
      "metadata": {
        "colab": {
          "base_uri": "https://localhost:8080/"
        },
        "id": "qCm_3GL6gV9c",
        "outputId": "f6b48e77-b0a1-4c0d-9341-152fd115fcdd"
      },
      "execution_count": 21,
      "outputs": [
        {
          "output_type": "execute_result",
          "data": {
            "text/plain": [
              "ocorrencia_classificacao        0\n",
              "ocorrencia_tipo                 0\n",
              "aeronave_equipamento            0\n",
              "aeronave_fabricante             0\n",
              "aeronave_modelo                 0\n",
              "aeronave_tipo_motor             0\n",
              "aeronave_quantidade_motores    29\n",
              "aeronave_ano_fabricacao        63\n",
              "aeronave_segmento_aviacao       0\n",
              "aeronave_fase_voo               0\n",
              "aeronave_tipo_operacao          0\n",
              "aeronave_nivel_dano             0\n",
              "dtype: int64"
            ]
          },
          "metadata": {},
          "execution_count": 21
        }
      ]
    },
    {
      "cell_type": "code",
      "source": [
        "Acidente.loc[Acidente['aeronave_ano_fabricacao']<=0]"
      ],
      "metadata": {
        "id": "XSsZ1g8Lg0c1"
      },
      "execution_count": null,
      "outputs": []
    },
    {
      "cell_type": "markdown",
      "source": [
        "**Diante  do  número elevado de valores missing nestas duas  variáveis,  serão removidas as  colunas.**"
      ],
      "metadata": {
        "id": "Mk9ytWTIiD7m"
      }
    },
    {
      "cell_type": "code",
      "source": [
        "Acidente.drop(['aeronave_quantidade_motores','aeronave_ano_fabricacao' ], axis=1, inplace=True)"
      ],
      "metadata": {
        "id": "NgWaLlXQiX-h"
      },
      "execution_count": 23,
      "outputs": []
    },
    {
      "cell_type": "code",
      "source": [
        "Acidente.head(1)"
      ],
      "metadata": {
        "id": "IG9HK_3oi00N",
        "colab": {
          "base_uri": "https://localhost:8080/",
          "height": 162
        },
        "outputId": "63ef8051-0999-46d4-8325-f4c4f77c1d52"
      },
      "execution_count": 24,
      "outputs": [
        {
          "output_type": "execute_result",
          "data": {
            "text/html": [
              "\n",
              "  <div id=\"df-be33b81c-2005-4ead-b0ed-8f932f4c6ff6\">\n",
              "    <div class=\"colab-df-container\">\n",
              "      <div>\n",
              "<style scoped>\n",
              "    .dataframe tbody tr th:only-of-type {\n",
              "        vertical-align: middle;\n",
              "    }\n",
              "\n",
              "    .dataframe tbody tr th {\n",
              "        vertical-align: top;\n",
              "    }\n",
              "\n",
              "    .dataframe thead th {\n",
              "        text-align: right;\n",
              "    }\n",
              "</style>\n",
              "<table border=\"1\" class=\"dataframe\">\n",
              "  <thead>\n",
              "    <tr style=\"text-align: right;\">\n",
              "      <th></th>\n",
              "      <th>ocorrencia_classificacao</th>\n",
              "      <th>ocorrencia_tipo</th>\n",
              "      <th>aeronave_equipamento</th>\n",
              "      <th>aeronave_fabricante</th>\n",
              "      <th>aeronave_modelo</th>\n",
              "      <th>aeronave_tipo_motor</th>\n",
              "      <th>aeronave_segmento_aviacao</th>\n",
              "      <th>aeronave_fase_voo</th>\n",
              "      <th>aeronave_tipo_operacao</th>\n",
              "      <th>aeronave_nivel_dano</th>\n",
              "    </tr>\n",
              "  </thead>\n",
              "  <tbody>\n",
              "    <tr>\n",
              "      <th>0</th>\n",
              "      <td>ACIDENTE</td>\n",
              "      <td>FALHA DO MOTOR EM VOO</td>\n",
              "      <td>ULTRALEVE</td>\n",
              "      <td>ORION LTDA</td>\n",
              "      <td>F1A EAGLE</td>\n",
              "      <td>PISTÃO</td>\n",
              "      <td>EXPERIMENTAL</td>\n",
              "      <td>CIRCUITO DE TRÁFEGO</td>\n",
              "      <td>VOO EXPERIMENTAL</td>\n",
              "      <td>SUBSTANCIAL</td>\n",
              "    </tr>\n",
              "  </tbody>\n",
              "</table>\n",
              "</div>\n",
              "      <button class=\"colab-df-convert\" onclick=\"convertToInteractive('df-be33b81c-2005-4ead-b0ed-8f932f4c6ff6')\"\n",
              "              title=\"Convert this dataframe to an interactive table.\"\n",
              "              style=\"display:none;\">\n",
              "        \n",
              "  <svg xmlns=\"http://www.w3.org/2000/svg\" height=\"24px\"viewBox=\"0 0 24 24\"\n",
              "       width=\"24px\">\n",
              "    <path d=\"M0 0h24v24H0V0z\" fill=\"none\"/>\n",
              "    <path d=\"M18.56 5.44l.94 2.06.94-2.06 2.06-.94-2.06-.94-.94-2.06-.94 2.06-2.06.94zm-11 1L8.5 8.5l.94-2.06 2.06-.94-2.06-.94L8.5 2.5l-.94 2.06-2.06.94zm10 10l.94 2.06.94-2.06 2.06-.94-2.06-.94-.94-2.06-.94 2.06-2.06.94z\"/><path d=\"M17.41 7.96l-1.37-1.37c-.4-.4-.92-.59-1.43-.59-.52 0-1.04.2-1.43.59L10.3 9.45l-7.72 7.72c-.78.78-.78 2.05 0 2.83L4 21.41c.39.39.9.59 1.41.59.51 0 1.02-.2 1.41-.59l7.78-7.78 2.81-2.81c.8-.78.8-2.07 0-2.86zM5.41 20L4 18.59l7.72-7.72 1.47 1.35L5.41 20z\"/>\n",
              "  </svg>\n",
              "      </button>\n",
              "      \n",
              "  <style>\n",
              "    .colab-df-container {\n",
              "      display:flex;\n",
              "      flex-wrap:wrap;\n",
              "      gap: 12px;\n",
              "    }\n",
              "\n",
              "    .colab-df-convert {\n",
              "      background-color: #E8F0FE;\n",
              "      border: none;\n",
              "      border-radius: 50%;\n",
              "      cursor: pointer;\n",
              "      display: none;\n",
              "      fill: #1967D2;\n",
              "      height: 32px;\n",
              "      padding: 0 0 0 0;\n",
              "      width: 32px;\n",
              "    }\n",
              "\n",
              "    .colab-df-convert:hover {\n",
              "      background-color: #E2EBFA;\n",
              "      box-shadow: 0px 1px 2px rgba(60, 64, 67, 0.3), 0px 1px 3px 1px rgba(60, 64, 67, 0.15);\n",
              "      fill: #174EA6;\n",
              "    }\n",
              "\n",
              "    [theme=dark] .colab-df-convert {\n",
              "      background-color: #3B4455;\n",
              "      fill: #D2E3FC;\n",
              "    }\n",
              "\n",
              "    [theme=dark] .colab-df-convert:hover {\n",
              "      background-color: #434B5C;\n",
              "      box-shadow: 0px 1px 3px 1px rgba(0, 0, 0, 0.15);\n",
              "      filter: drop-shadow(0px 1px 2px rgba(0, 0, 0, 0.3));\n",
              "      fill: #FFFFFF;\n",
              "    }\n",
              "  </style>\n",
              "\n",
              "      <script>\n",
              "        const buttonEl =\n",
              "          document.querySelector('#df-be33b81c-2005-4ead-b0ed-8f932f4c6ff6 button.colab-df-convert');\n",
              "        buttonEl.style.display =\n",
              "          google.colab.kernel.accessAllowed ? 'block' : 'none';\n",
              "\n",
              "        async function convertToInteractive(key) {\n",
              "          const element = document.querySelector('#df-be33b81c-2005-4ead-b0ed-8f932f4c6ff6');\n",
              "          const dataTable =\n",
              "            await google.colab.kernel.invokeFunction('convertToInteractive',\n",
              "                                                     [key], {});\n",
              "          if (!dataTable) return;\n",
              "\n",
              "          const docLinkHtml = 'Like what you see? Visit the ' +\n",
              "            '<a target=\"_blank\" href=https://colab.research.google.com/notebooks/data_table.ipynb>data table notebook</a>'\n",
              "            + ' to learn more about interactive tables.';\n",
              "          element.innerHTML = '';\n",
              "          dataTable['output_type'] = 'display_data';\n",
              "          await google.colab.output.renderOutput(dataTable, element);\n",
              "          const docLink = document.createElement('div');\n",
              "          docLink.innerHTML = docLinkHtml;\n",
              "          element.appendChild(docLink);\n",
              "        }\n",
              "      </script>\n",
              "    </div>\n",
              "  </div>\n",
              "  "
            ],
            "text/plain": [
              "  ocorrencia_classificacao  ... aeronave_nivel_dano\n",
              "0                 ACIDENTE  ...         SUBSTANCIAL\n",
              "\n",
              "[1 rows x 10 columns]"
            ]
          },
          "metadata": {},
          "execution_count": 24
        }
      ]
    },
    {
      "cell_type": "markdown",
      "source": [
        "**Verificando o Tipo de registro nas colunas**"
      ],
      "metadata": {
        "id": "MyITCzPnkfiX"
      }
    },
    {
      "cell_type": "code",
      "source": [
        "np.unique(Acidente['aeronave_nivel_dano'],return_counts=True)"
      ],
      "metadata": {
        "colab": {
          "base_uri": "https://localhost:8080/"
        },
        "id": "WJE2Q5BYjvPS",
        "outputId": "1adfdc69-e17a-49c9-9c75-23c616d2c907"
      },
      "execution_count": 25,
      "outputs": [
        {
          "output_type": "execute_result",
          "data": {
            "text/plain": [
              "(array(['***', 'DESTRUÍDA', 'LEVE', 'NENHUM', 'SUBSTANCIAL'], dtype=object),\n",
              " array([ 114,  337, 1327, 1872, 1466]))"
            ]
          },
          "metadata": {},
          "execution_count": 25
        }
      ]
    },
    {
      "cell_type": "code",
      "source": [
        "np.unique(Acidente['aeronave_tipo_operacao'],return_counts=True)\n"
      ],
      "metadata": {
        "colab": {
          "base_uri": "https://localhost:8080/"
        },
        "id": "75qpU1Upknlg",
        "outputId": "5c8f8008-b15f-4474-fef6-ad09f1c87a94"
      },
      "execution_count": 26,
      "outputs": [
        {
          "output_type": "execute_result",
          "data": {
            "text/plain": [
              "(array(['***', 'OPERAÇÃO AGRÍCOLA', 'OPERAÇÃO ESPECIALIZADA',\n",
              "        'OPERAÇÃO POLICIAL', 'TÁXI AÉREO', 'VOO DE INSTRUÇÃO',\n",
              "        'VOO EXPERIMENTAL', 'VOO NÃO REGULAR', 'VOO PRIVADO',\n",
              "        'VOO REGULAR'], dtype=object),\n",
              " array([  63,  381,   87,  123,  763,  751,  264,   46, 1575, 1063]))"
            ]
          },
          "metadata": {},
          "execution_count": 26
        }
      ]
    },
    {
      "cell_type": "code",
      "source": [
        "np.unique(Acidente['aeronave_fase_voo'],return_counts=True)"
      ],
      "metadata": {
        "colab": {
          "base_uri": "https://localhost:8080/"
        },
        "id": "OFTWhLeEkwuc",
        "outputId": "2cdde629-a4db-41b4-c7e5-2dabbeb149ed"
      },
      "execution_count": 27,
      "outputs": [
        {
          "output_type": "execute_result",
          "data": {
            "text/plain": [
              "(array(['APROXIMAÇÃO FINAL', 'ARREMETIDA NO AR', 'ARREMETIDA NO SOLO',\n",
              "        'CHEQUE DE MOTOR OU ROTOR', 'CIRCUITO DE TRÁFEGO',\n",
              "        'CORRIDA APÓS POUSO', 'CRUZEIRO', 'DECOLAGEM',\n",
              "        'DECOLAGEM VERTICAL', 'DESCIDA', 'DESCIDA DE EMERGÊNCIA',\n",
              "        'DESCIDA DESCONTROLADA', 'EMPREGO MILITAR', 'ESPECIALIZADA',\n",
              "        'ESPERA', 'ESTACIONAMENTO', 'INDETERMINADA', 'MANOBRA',\n",
              "        'NAVEGAÇÃO A BAIXA ALTURA', 'OPERAÇÃO DE SOLO', 'OUTRA FASE',\n",
              "        'PAIRADO', 'PARTIDA DO MOTOR', 'POUSO',\n",
              "        'PROCEDIMENTO DE APROXIMAÇÃO IFR', 'PUSHBACK', 'RETA FINAL',\n",
              "        'SAÍDA IFR', 'SUBIDA', 'TÁXI'], dtype=object),\n",
              " array([229,  24,  42,  13, 124, 594, 645, 783,   8, 190,   1,   2,   1,\n",
              "        173,   4,  72,  70, 159,  59,  45, 101,  20,  30, 902,   7,   6,\n",
              "         15,   7, 357, 433]))"
            ]
          },
          "metadata": {},
          "execution_count": 27
        }
      ]
    },
    {
      "cell_type": "code",
      "source": [
        "np.unique(Acidente['aeronave_segmento_aviacao'],return_counts=True)"
      ],
      "metadata": {
        "colab": {
          "base_uri": "https://localhost:8080/"
        },
        "id": "d1R1582Uk8YE",
        "outputId": "a9a3863b-ec98-462e-cb91-9d7c9d07a14e"
      },
      "execution_count": 28,
      "outputs": [
        {
          "output_type": "execute_result",
          "data": {
            "text/plain": [
              "(array(['***', 'ADMINISTRAÇÃO DIRETA', 'ADMINISTRAÇÃO INDIRETA',\n",
              "        'AGRÍCOLA', 'ESPECIALIZADA', 'EXPERIMENTAL', 'HISTÓRICA',\n",
              "        'INSTRUÇÃO', 'MÚLTIPLA', 'NÃO REGULAR', 'PARTICULAR', 'REGULAR',\n",
              "        'TÁXI AÉREO'], dtype=object),\n",
              " array([  83,  143,   11,  276,  113,  364,    1,  771,   28,   22, 1497,\n",
              "        1034,  773]))"
            ]
          },
          "metadata": {},
          "execution_count": 28
        }
      ]
    },
    {
      "cell_type": "code",
      "source": [
        "np.unique(Acidente['aeronave_tipo_motor'],return_counts=True)"
      ],
      "metadata": {
        "colab": {
          "base_uri": "https://localhost:8080/"
        },
        "id": "XyWDtdkIlI19",
        "outputId": "92924d6a-6cc5-4e62-caf6-676a448c3d40"
      },
      "execution_count": 29,
      "outputs": [
        {
          "output_type": "execute_result",
          "data": {
            "text/plain": [
              "(array(['***', 'JATO', 'PISTÃO', 'SEM TRAÇÃO', 'TURBOEIXO', 'TURBOÉLICE'],\n",
              "       dtype=object), array([  51, 1011, 2960,   17,  464,  613]))"
            ]
          },
          "metadata": {},
          "execution_count": 29
        }
      ]
    },
    {
      "cell_type": "code",
      "source": [
        "np.unique(Acidente['aeronave_modelo'],return_counts=True)"
      ],
      "metadata": {
        "id": "98oq263UlRjr"
      },
      "execution_count": null,
      "outputs": []
    },
    {
      "cell_type": "code",
      "source": [
        "np.unique(Acidente['aeronave_fabricante'],return_counts=True)"
      ],
      "metadata": {
        "id": "UrSQzCBclsOg"
      },
      "execution_count": null,
      "outputs": []
    },
    {
      "cell_type": "code",
      "source": [
        "np.unique(Acidente['aeronave_equipamento'],return_counts=True)"
      ],
      "metadata": {
        "id": "5SZrCeVol7hk",
        "colab": {
          "base_uri": "https://localhost:8080/"
        },
        "outputId": "12c99a66-7d17-4d1b-a4ce-b7e80728df41"
      },
      "execution_count": 32,
      "outputs": [
        {
          "output_type": "execute_result",
          "data": {
            "text/plain": [
              "(array(['***', 'ANFÍBIO', 'AVIÃO', 'BALÃO', 'DIRIGÍVEL', 'HELICÓPTERO',\n",
              "        'HIDROAVIÃO', 'PLANADOR', 'TRIKE', 'ULTRALEVE'], dtype=object),\n",
              " array([  15,   12, 4220,    1,    2,  585,    1,   17,    2,  261]))"
            ]
          },
          "metadata": {},
          "execution_count": 32
        }
      ]
    },
    {
      "cell_type": "code",
      "source": [
        "np.unique(Acidente['ocorrencia_tipo'],return_counts=True)"
      ],
      "metadata": {
        "id": "PPDGxQjzmECN"
      },
      "execution_count": null,
      "outputs": []
    },
    {
      "cell_type": "code",
      "source": [
        "np.unique(Acidente['ocorrencia_classificacao'],return_counts=True)"
      ],
      "metadata": {
        "colab": {
          "base_uri": "https://localhost:8080/"
        },
        "id": "h7yvnAXRmNor",
        "outputId": "c1635e12-4586-4d80-934a-b14994f72b14"
      },
      "execution_count": 34,
      "outputs": [
        {
          "output_type": "execute_result",
          "data": {
            "text/plain": [
              "(array(['ACIDENTE', 'INCIDENTE', 'INCIDENTE GRAVE'], dtype=object),\n",
              " array([1677, 2817,  622]))"
            ]
          },
          "metadata": {},
          "execution_count": 34
        }
      ]
    },
    {
      "cell_type": "markdown",
      "source": [
        "Os  registros  se apresentam  com  elevado número de dados inconsistentes, e  por se tratar de variáveis muito  diferentes, não será escolhido\n",
        " fazer uma atribuição para cada registro . Serão removidas as colunas."
      ],
      "metadata": {
        "id": "qn3Kpk3MEYxz"
      }
    },
    {
      "cell_type": "code",
      "source": [
        "Acidente.drop(['aeronave_equipamento','aeronave_modelo','aeronave_segmento_aviacao','aeronave_tipo_operacao','aeronave_fabricante','aeronave_tipo_motor' ], axis=1, inplace=True)"
      ],
      "metadata": {
        "id": "gdqv6KzkotfD"
      },
      "execution_count": 35,
      "outputs": []
    },
    {
      "cell_type": "code",
      "source": [
        "Acidente.head()"
      ],
      "metadata": {
        "colab": {
          "base_uri": "https://localhost:8080/",
          "height": 206
        },
        "id": "BMNgYYRxptKE",
        "outputId": "ea9bd606-f811-42a0-e4b2-b0be05628ca6"
      },
      "execution_count": 36,
      "outputs": [
        {
          "output_type": "execute_result",
          "data": {
            "text/html": [
              "\n",
              "  <div id=\"df-b8f06555-b2d0-42d8-95bd-9d5c123560e0\">\n",
              "    <div class=\"colab-df-container\">\n",
              "      <div>\n",
              "<style scoped>\n",
              "    .dataframe tbody tr th:only-of-type {\n",
              "        vertical-align: middle;\n",
              "    }\n",
              "\n",
              "    .dataframe tbody tr th {\n",
              "        vertical-align: top;\n",
              "    }\n",
              "\n",
              "    .dataframe thead th {\n",
              "        text-align: right;\n",
              "    }\n",
              "</style>\n",
              "<table border=\"1\" class=\"dataframe\">\n",
              "  <thead>\n",
              "    <tr style=\"text-align: right;\">\n",
              "      <th></th>\n",
              "      <th>ocorrencia_classificacao</th>\n",
              "      <th>ocorrencia_tipo</th>\n",
              "      <th>aeronave_fase_voo</th>\n",
              "      <th>aeronave_nivel_dano</th>\n",
              "    </tr>\n",
              "  </thead>\n",
              "  <tbody>\n",
              "    <tr>\n",
              "      <th>0</th>\n",
              "      <td>ACIDENTE</td>\n",
              "      <td>FALHA DO MOTOR EM VOO</td>\n",
              "      <td>CIRCUITO DE TRÁFEGO</td>\n",
              "      <td>SUBSTANCIAL</td>\n",
              "    </tr>\n",
              "    <tr>\n",
              "      <th>1</th>\n",
              "      <td>INCIDENTE</td>\n",
              "      <td>AERÓDROMO</td>\n",
              "      <td>TÁXI</td>\n",
              "      <td>NENHUM</td>\n",
              "    </tr>\n",
              "    <tr>\n",
              "      <th>2</th>\n",
              "      <td>INCIDENTE GRAVE</td>\n",
              "      <td>POUSO SEM TREM</td>\n",
              "      <td>POUSO</td>\n",
              "      <td>SUBSTANCIAL</td>\n",
              "    </tr>\n",
              "    <tr>\n",
              "      <th>3</th>\n",
              "      <td>INCIDENTE GRAVE</td>\n",
              "      <td>COLISÃO COM OBSTÁCULO DURANTE A DECOLAGEM E POUSO</td>\n",
              "      <td>APROXIMAÇÃO FINAL</td>\n",
              "      <td>LEVE</td>\n",
              "    </tr>\n",
              "    <tr>\n",
              "      <th>4</th>\n",
              "      <td>INCIDENTE</td>\n",
              "      <td>OUTROS</td>\n",
              "      <td>TÁXI</td>\n",
              "      <td>SUBSTANCIAL</td>\n",
              "    </tr>\n",
              "  </tbody>\n",
              "</table>\n",
              "</div>\n",
              "      <button class=\"colab-df-convert\" onclick=\"convertToInteractive('df-b8f06555-b2d0-42d8-95bd-9d5c123560e0')\"\n",
              "              title=\"Convert this dataframe to an interactive table.\"\n",
              "              style=\"display:none;\">\n",
              "        \n",
              "  <svg xmlns=\"http://www.w3.org/2000/svg\" height=\"24px\"viewBox=\"0 0 24 24\"\n",
              "       width=\"24px\">\n",
              "    <path d=\"M0 0h24v24H0V0z\" fill=\"none\"/>\n",
              "    <path d=\"M18.56 5.44l.94 2.06.94-2.06 2.06-.94-2.06-.94-.94-2.06-.94 2.06-2.06.94zm-11 1L8.5 8.5l.94-2.06 2.06-.94-2.06-.94L8.5 2.5l-.94 2.06-2.06.94zm10 10l.94 2.06.94-2.06 2.06-.94-2.06-.94-.94-2.06-.94 2.06-2.06.94z\"/><path d=\"M17.41 7.96l-1.37-1.37c-.4-.4-.92-.59-1.43-.59-.52 0-1.04.2-1.43.59L10.3 9.45l-7.72 7.72c-.78.78-.78 2.05 0 2.83L4 21.41c.39.39.9.59 1.41.59.51 0 1.02-.2 1.41-.59l7.78-7.78 2.81-2.81c.8-.78.8-2.07 0-2.86zM5.41 20L4 18.59l7.72-7.72 1.47 1.35L5.41 20z\"/>\n",
              "  </svg>\n",
              "      </button>\n",
              "      \n",
              "  <style>\n",
              "    .colab-df-container {\n",
              "      display:flex;\n",
              "      flex-wrap:wrap;\n",
              "      gap: 12px;\n",
              "    }\n",
              "\n",
              "    .colab-df-convert {\n",
              "      background-color: #E8F0FE;\n",
              "      border: none;\n",
              "      border-radius: 50%;\n",
              "      cursor: pointer;\n",
              "      display: none;\n",
              "      fill: #1967D2;\n",
              "      height: 32px;\n",
              "      padding: 0 0 0 0;\n",
              "      width: 32px;\n",
              "    }\n",
              "\n",
              "    .colab-df-convert:hover {\n",
              "      background-color: #E2EBFA;\n",
              "      box-shadow: 0px 1px 2px rgba(60, 64, 67, 0.3), 0px 1px 3px 1px rgba(60, 64, 67, 0.15);\n",
              "      fill: #174EA6;\n",
              "    }\n",
              "\n",
              "    [theme=dark] .colab-df-convert {\n",
              "      background-color: #3B4455;\n",
              "      fill: #D2E3FC;\n",
              "    }\n",
              "\n",
              "    [theme=dark] .colab-df-convert:hover {\n",
              "      background-color: #434B5C;\n",
              "      box-shadow: 0px 1px 3px 1px rgba(0, 0, 0, 0.15);\n",
              "      filter: drop-shadow(0px 1px 2px rgba(0, 0, 0, 0.3));\n",
              "      fill: #FFFFFF;\n",
              "    }\n",
              "  </style>\n",
              "\n",
              "      <script>\n",
              "        const buttonEl =\n",
              "          document.querySelector('#df-b8f06555-b2d0-42d8-95bd-9d5c123560e0 button.colab-df-convert');\n",
              "        buttonEl.style.display =\n",
              "          google.colab.kernel.accessAllowed ? 'block' : 'none';\n",
              "\n",
              "        async function convertToInteractive(key) {\n",
              "          const element = document.querySelector('#df-b8f06555-b2d0-42d8-95bd-9d5c123560e0');\n",
              "          const dataTable =\n",
              "            await google.colab.kernel.invokeFunction('convertToInteractive',\n",
              "                                                     [key], {});\n",
              "          if (!dataTable) return;\n",
              "\n",
              "          const docLinkHtml = 'Like what you see? Visit the ' +\n",
              "            '<a target=\"_blank\" href=https://colab.research.google.com/notebooks/data_table.ipynb>data table notebook</a>'\n",
              "            + ' to learn more about interactive tables.';\n",
              "          element.innerHTML = '';\n",
              "          dataTable['output_type'] = 'display_data';\n",
              "          await google.colab.output.renderOutput(dataTable, element);\n",
              "          const docLink = document.createElement('div');\n",
              "          docLink.innerHTML = docLinkHtml;\n",
              "          element.appendChild(docLink);\n",
              "        }\n",
              "      </script>\n",
              "    </div>\n",
              "  </div>\n",
              "  "
            ],
            "text/plain": [
              "  ocorrencia_classificacao  ... aeronave_nivel_dano\n",
              "0                 ACIDENTE  ...         SUBSTANCIAL\n",
              "1                INCIDENTE  ...              NENHUM\n",
              "2          INCIDENTE GRAVE  ...         SUBSTANCIAL\n",
              "3          INCIDENTE GRAVE  ...                LEVE\n",
              "4                INCIDENTE  ...         SUBSTANCIAL\n",
              "\n",
              "[5 rows x 4 columns]"
            ]
          },
          "metadata": {},
          "execution_count": 36
        }
      ]
    },
    {
      "cell_type": "code",
      "source": [
        "Acidente.dtypes"
      ],
      "metadata": {
        "colab": {
          "base_uri": "https://localhost:8080/"
        },
        "id": "pyCUES7thAwW",
        "outputId": "e98c49bf-a9ab-4043-f8e9-ce5b6d54ef2d"
      },
      "execution_count": 37,
      "outputs": [
        {
          "output_type": "execute_result",
          "data": {
            "text/plain": [
              "ocorrencia_classificacao    object\n",
              "ocorrencia_tipo             object\n",
              "aeronave_fase_voo           object\n",
              "aeronave_nivel_dano         object\n",
              "dtype: object"
            ]
          },
          "metadata": {},
          "execution_count": 37
        }
      ]
    },
    {
      "cell_type": "markdown",
      "source": [
        "**Se tem 4 variáveis Categóricas, assim classificadas:**\n",
        "\n",
        "\n",
        "Ocorrencia_classificacao, aeronave_nivel_dano: Categórica Ordinal\n",
        "\n",
        "Ocorrencia_tipo, aeronave_fase_voo: Categórica Nominal\n",
        "\n",
        "\n"
      ],
      "metadata": {
        "id": "1OLO6BLpqr9Y"
      }
    },
    {
      "cell_type": "markdown",
      "source": [
        "**Dicionário de Dados**\n",
        "\n",
        "\n",
        "\n",
        "* Ocorrencia_classificacao: refere-se à gravidade do acidente\n",
        "*   Aeronave_nivel_dano: refere-se ao grau do  dano ocasionado na aeronave\n",
        "\n",
        "\n",
        "*   Ocorrencia_tipo:tipo de problema que ocasionou o acidente\n",
        "*   Aeronave_fase_voo:fase do vôo em que se deu o acidente\n",
        "\n",
        "\n",
        "\n"
      ],
      "metadata": {
        "id": "vty2TzYTrgkA"
      }
    },
    {
      "cell_type": "markdown",
      "source": [
        "#Visualizando Gráficos"
      ],
      "metadata": {
        "id": "hYfx6_A5syf7"
      }
    },
    {
      "cell_type": "code",
      "source": [
        "sns.displot(Acidente['aeronave_nivel_dano'],color='green')"
      ],
      "metadata": {
        "colab": {
          "base_uri": "https://localhost:8080/",
          "height": 383
        },
        "id": "cZW7zqKCs0WZ",
        "outputId": "289b4a2d-6861-4ab0-a0bf-d334c326af3f"
      },
      "execution_count": 38,
      "outputs": [
        {
          "output_type": "execute_result",
          "data": {
            "text/plain": [
              "<seaborn.axisgrid.FacetGrid at 0x7f3116c7c050>"
            ]
          },
          "metadata": {},
          "execution_count": 38
        },
        {
          "output_type": "display_data",
          "data": {
            "image/png": "[encoded data removed]",
            "text/plain": [
              "<Figure size 360x360 with 1 Axes>"
            ]
          },
          "metadata": {}
        }
      ]
    },
    {
      "cell_type": "code",
      "source": [
        "Grafico = Acidente['aeronave_fase_voo'].value_counts()"
      ],
      "metadata": {
        "id": "nhCUTCcitnds"
      },
      "execution_count": 39,
      "outputs": []
    },
    {
      "cell_type": "code",
      "source": [
        "Grafico.plot(kind='bar')"
      ],
      "metadata": {
        "colab": {
          "base_uri": "https://localhost:8080/",
          "height": 549
        },
        "id": "z0FpnGCLt_SS",
        "outputId": "0d93e50a-42fb-4eae-a783-eb6e7ed4bbe1"
      },
      "execution_count": 40,
      "outputs": [
        {
          "output_type": "execute_result",
          "data": {
            "text/plain": [
              "<matplotlib.axes._subplots.AxesSubplot at 0x7f310cee5b90>"
            ]
          },
          "metadata": {},
          "execution_count": 40
        },
        {
          "output_type": "display_data",
          "data": {
            "image/png": "[encoded data removed]",
            "text/plain": [
              "<Figure size 576x396 with 1 Axes>"
            ]
          },
          "metadata": {}
        }
      ]
    },
    {
      "cell_type": "code",
      "source": [
        "Grafico1 = Acidente['ocorrencia_classificacao'].value_counts()"
      ],
      "metadata": {
        "id": "rg4Tg4iCvBpr"
      },
      "execution_count": 41,
      "outputs": []
    },
    {
      "cell_type": "code",
      "source": [
        "Grafico1.plot(kind ='barh',color=['red','green','blue'])"
      ],
      "metadata": {
        "colab": {
          "base_uri": "https://localhost:8080/",
          "height": 365
        },
        "id": "dx9vh0FsvAI9",
        "outputId": "9cd728b3-e9bf-4c97-9a6d-21b68acac133"
      },
      "execution_count": 42,
      "outputs": [
        {
          "output_type": "execute_result",
          "data": {
            "text/plain": [
              "<matplotlib.axes._subplots.AxesSubplot at 0x7f310ce0ae50>"
            ]
          },
          "metadata": {},
          "execution_count": 42
        },
        {
          "output_type": "display_data",
          "data": {
            "image/png": "[encoded data removed]",
            "text/plain": [
              "<Figure size 576x396 with 1 Axes>"
            ]
          },
          "metadata": {}
        }
      ]
    },
    {
      "cell_type": "markdown",
      "source": [
        "**Pela análise acima,percebe-se  que  há  maior  quantidade de incidentes, as fases  do vôo  que ocorrem mais  acidentes é no pouso, seguida da  decolagem.** **O nível  de dano  prevalente  é o nenhum dano, seguido do substancial e leve.**\n",
        "**Como foi  verificado que  há   registros  inconsistentes   no nível de dano,  será  realizado o tratamento destes registros , com a atribuição de  registros. **"
      ],
      "metadata": {
        "id": "3RmltWnsvibd"
      }
    },
    {
      "cell_type": "code",
      "source": [
        "Acidente['aeronave_nivel_dano']= Acidente['aeronave_nivel_dano'].replace(['***'],['LEVE'])"
      ],
      "metadata": {
        "id": "0K6kDzVtdDiV"
      },
      "execution_count": 43,
      "outputs": []
    },
    {
      "cell_type": "code",
      "source": [
        "sns.displot(Acidente['aeronave_nivel_dano'],color='green')"
      ],
      "metadata": {
        "colab": {
          "base_uri": "https://localhost:8080/",
          "height": 383
        },
        "id": "kiHa40eWdakw",
        "outputId": "e637d29b-1ce6-4a78-b5d8-2a912987c222"
      },
      "execution_count": 44,
      "outputs": [
        {
          "output_type": "execute_result",
          "data": {
            "text/plain": [
              "<seaborn.axisgrid.FacetGrid at 0x7f310ce0a350>"
            ]
          },
          "metadata": {},
          "execution_count": 44
        },
        {
          "output_type": "display_data",
          "data": {
            "image/png": "[encoded data removed]",
            "text/plain": [
              "<Figure size 360x360 with 1 Axes>"
            ]
          },
          "metadata": {}
        }
      ]
    },
    {
      "cell_type": "markdown",
      "source": [
        "#Preparando o banco de dados para análise dos algoritmos"
      ],
      "metadata": {
        "id": "HzYuWeAYePjA"
      }
    },
    {
      "cell_type": "markdown",
      "source": [
        "#Dividindo as Variáveis Preditoras e de Classe"
      ],
      "metadata": {
        "id": "26qif2DoedRO"
      }
    },
    {
      "cell_type": "markdown",
      "source": [
        "**Serão criadas duas variáveis: a X será a variável preditora e a Y a de classe **"
      ],
      "metadata": {
        "id": "MgrDQW9bei2E"
      }
    },
    {
      "cell_type": "code",
      "source": [
        "X_Acidente = Acidente.iloc[:,1:4].values"
      ],
      "metadata": {
        "id": "_nijNN-0eaUG"
      },
      "execution_count": 45,
      "outputs": []
    },
    {
      "cell_type": "code",
      "source": [
        "X_Acidente"
      ],
      "metadata": {
        "colab": {
          "base_uri": "https://localhost:8080/"
        },
        "id": "fbkIRWdyfGuc",
        "outputId": "fc820463-bc82-4a8a-80e6-fa1c2755bdf6"
      },
      "execution_count": 46,
      "outputs": [
        {
          "output_type": "execute_result",
          "data": {
            "text/plain": [
              "array([['FALHA DO MOTOR EM VOO', 'CIRCUITO DE TRÁFEGO', 'SUBSTANCIAL'],\n",
              "       ['AERÓDROMO', 'TÁXI', 'NENHUM'],\n",
              "       ['POUSO SEM TREM', 'POUSO', 'SUBSTANCIAL'],\n",
              "       ...,\n",
              "       ['POUSO SEM TREM', 'POUSO', 'SUBSTANCIAL'],\n",
              "       ['CAUSADO POR FENÔMENO METEOROLÓGICO EM VOO', 'CRUZEIRO', 'LEVE'],\n",
              "       ['FALHA OU MAU FUNCIONAMENTO DE SISTEMA / COMPONENTE ',\n",
              "        'CRUZEIRO', 'NENHUM']], dtype=object)"
            ]
          },
          "metadata": {},
          "execution_count": 46
        }
      ]
    },
    {
      "cell_type": "code",
      "source": [
        "Y_Acidente = Acidente.iloc[:,0].values"
      ],
      "metadata": {
        "id": "YlpzwYnnfMqr"
      },
      "execution_count": 47,
      "outputs": []
    },
    {
      "cell_type": "code",
      "source": [
        "Y_Acidente"
      ],
      "metadata": {
        "colab": {
          "base_uri": "https://localhost:8080/"
        },
        "id": "Z6_1uf9mfRoJ",
        "outputId": "1f3c36c1-f646-4043-ce74-9f4f74cc7eed"
      },
      "execution_count": 48,
      "outputs": [
        {
          "output_type": "execute_result",
          "data": {
            "text/plain": [
              "array(['ACIDENTE', 'INCIDENTE', 'INCIDENTE GRAVE', ..., 'INCIDENTE',\n",
              "       'ACIDENTE', 'INCIDENTE'], dtype=object)"
            ]
          },
          "metadata": {},
          "execution_count": 48
        }
      ]
    },
    {
      "cell_type": "markdown",
      "source": [
        "#Tratando atributos Categóricos com Label Encoder"
      ],
      "metadata": {
        "id": "DZUrTxJCfZF-"
      }
    },
    {
      "cell_type": "code",
      "source": [
        "label_encoder_ocorrencia_tipo = LabelEncoder()\n",
        "label_encoder_aeronave_fase_voo = LabelEncoder()\n",
        "label_encoder_aeronave_nivel_dano = LabelEncoder()"
      ],
      "metadata": {
        "id": "G-8zA7_DfuvT"
      },
      "execution_count": 49,
      "outputs": []
    },
    {
      "cell_type": "code",
      "source": [
        "X_Acidente[:,0]=label_encoder_ocorrencia_tipo.fit_transform(X_Acidente[:,0])\n",
        "X_Acidente[:,1]=label_encoder_aeronave_fase_voo.fit_transform(X_Acidente[:,1])"
      ],
      "metadata": {
        "id": "lAok0yh1fy8M"
      },
      "execution_count": 50,
      "outputs": []
    },
    {
      "cell_type": "code",
      "source": [
        "X_Acidente[:,2]=label_encoder_aeronave_nivel_dano.fit_transform(X_Acidente[:,2])"
      ],
      "metadata": {
        "id": "yFGPu22GhL3r"
      },
      "execution_count": 51,
      "outputs": []
    },
    {
      "cell_type": "code",
      "source": [
        "X_Acidente"
      ],
      "metadata": {
        "colab": {
          "base_uri": "https://localhost:8080/"
        },
        "id": "FVSsmdM0horR",
        "outputId": "c9234588-db45-4aa9-b4e1-683a16045b24"
      },
      "execution_count": 52,
      "outputs": [
        {
          "output_type": "execute_result",
          "data": {
            "text/plain": [
              "array([[27, 4, 3],\n",
              "       [1, 29, 2],\n",
              "       [50, 23, 3],\n",
              "       ...,\n",
              "       [50, 23, 3],\n",
              "       [3, 6, 1],\n",
              "       [30, 6, 2]], dtype=object)"
            ]
          },
          "metadata": {},
          "execution_count": 52
        }
      ]
    },
    {
      "cell_type": "markdown",
      "source": [
        "#Tratando os Dados Desbalanceados com Tomek Links"
      ],
      "metadata": {
        "id": "IXYgiNypjTnO"
      }
    },
    {
      "cell_type": "code",
      "source": [
        "np.unique(Acidente['ocorrencia_classificacao'],return_counts=True)"
      ],
      "metadata": {
        "colab": {
          "base_uri": "https://localhost:8080/"
        },
        "id": "m-clfsdGjVBs",
        "outputId": "919e273c-b1b5-46c5-8d71-43fd2d748447"
      },
      "execution_count": 53,
      "outputs": [
        {
          "output_type": "execute_result",
          "data": {
            "text/plain": [
              "(array(['ACIDENTE', 'INCIDENTE', 'INCIDENTE GRAVE'], dtype=object),\n",
              " array([1677, 2817,  622]))"
            ]
          },
          "metadata": {},
          "execution_count": 53
        }
      ]
    },
    {
      "cell_type": "code",
      "source": [
        "sns.countplot(x=Acidente['ocorrencia_classificacao'])"
      ],
      "metadata": {
        "colab": {
          "base_uri": "https://localhost:8080/",
          "height": 379
        },
        "id": "7gmsJNp7jus0",
        "outputId": "80fbe9f4-e7c9-44fe-f370-035c463caddc"
      },
      "execution_count": 54,
      "outputs": [
        {
          "output_type": "execute_result",
          "data": {
            "text/plain": [
              "<matplotlib.axes._subplots.AxesSubplot at 0x7f310ccdd250>"
            ]
          },
          "metadata": {},
          "execution_count": 54
        },
        {
          "output_type": "display_data",
          "data": {
            "image/png": "[encoded data removed]",
            "text/plain": [
              "<Figure size 576x396 with 1 Axes>"
            ]
          },
          "metadata": {}
        }
      ]
    },
    {
      "cell_type": "code",
      "source": [
        "from imblearn.under_sampling import TomekLinks"
      ],
      "metadata": {
        "id": "VeTFrp-TkoOn"
      },
      "execution_count": 55,
      "outputs": []
    },
    {
      "cell_type": "code",
      "source": [
        "tl= TomekLinks(sampling_strategy='majority')"
      ],
      "metadata": {
        "id": "Id-ukkfXktNd"
      },
      "execution_count": 56,
      "outputs": []
    },
    {
      "cell_type": "code",
      "source": [
        "X_under, Y_under = tl.fit_resample(X_Acidente,Y_Acidente)"
      ],
      "metadata": {
        "id": "HrJUiL_ik1Ba"
      },
      "execution_count": 57,
      "outputs": []
    },
    {
      "cell_type": "code",
      "source": [
        "X_under.shape,Y_under.shape"
      ],
      "metadata": {
        "colab": {
          "base_uri": "https://localhost:8080/"
        },
        "id": "kMXEd9H2k75t",
        "outputId": "215739ba-c990-4690-c7b1-7fc30ec048da"
      },
      "execution_count": 58,
      "outputs": [
        {
          "output_type": "execute_result",
          "data": {
            "text/plain": [
              "((5093, 3), (5093,))"
            ]
          },
          "metadata": {},
          "execution_count": 58
        }
      ]
    },
    {
      "cell_type": "code",
      "source": [
        "np.unique(Y_Acidente,return_counts=True)"
      ],
      "metadata": {
        "colab": {
          "base_uri": "https://localhost:8080/"
        },
        "id": "uwfZ-RNOlYfY",
        "outputId": "63ac35b6-394a-4ffa-96b9-023ac23afc82"
      },
      "execution_count": 59,
      "outputs": [
        {
          "output_type": "execute_result",
          "data": {
            "text/plain": [
              "(array(['ACIDENTE', 'INCIDENTE', 'INCIDENTE GRAVE'], dtype=object),\n",
              " array([1677, 2817,  622]))"
            ]
          },
          "metadata": {},
          "execution_count": 59
        }
      ]
    },
    {
      "cell_type": "code",
      "source": [
        "np.unique(Y_under,return_counts=True)"
      ],
      "metadata": {
        "colab": {
          "base_uri": "https://localhost:8080/"
        },
        "id": "TpDYRFK5lxjy",
        "outputId": "ad5f9203-a702-4635-9a11-1bca3d0e06fc"
      },
      "execution_count": 60,
      "outputs": [
        {
          "output_type": "execute_result",
          "data": {
            "text/plain": [
              "(array(['ACIDENTE', 'INCIDENTE', 'INCIDENTE GRAVE'], dtype=object),\n",
              " array([1677, 2794,  622]))"
            ]
          },
          "metadata": {},
          "execution_count": 60
        }
      ]
    },
    {
      "cell_type": "markdown",
      "source": [
        "#Escalonando os Atributos"
      ],
      "metadata": {
        "id": "jx2X9susyVzd"
      }
    },
    {
      "cell_type": "code",
      "source": [
        "X_under[:,0].min(),X_under[:,1].min(),X_under[:,2].min()"
      ],
      "metadata": {
        "colab": {
          "base_uri": "https://localhost:8080/"
        },
        "id": "yHpXB9QGyX4u",
        "outputId": "6f6fdc23-8aec-499d-b0ff-afd561fda2c5"
      },
      "execution_count": 61,
      "outputs": [
        {
          "output_type": "execute_result",
          "data": {
            "text/plain": [
              "(0.0, 0.0, 0.0)"
            ]
          },
          "metadata": {},
          "execution_count": 61
        }
      ]
    },
    {
      "cell_type": "code",
      "source": [
        "X_under[:,0].max(),X_under[:,2].max(),X_under[:,1].max()"
      ],
      "metadata": {
        "colab": {
          "base_uri": "https://localhost:8080/"
        },
        "id": "yE_aY5xcyfQe",
        "outputId": "55586df3-7e0d-4617-d362-10faae448048"
      },
      "execution_count": 62,
      "outputs": [
        {
          "output_type": "execute_result",
          "data": {
            "text/plain": [
              "(59.0, 3.0, 29.0)"
            ]
          },
          "metadata": {},
          "execution_count": 62
        }
      ]
    },
    {
      "cell_type": "markdown",
      "source": [
        "**Como há muito discrepância entre os valores será feita a padronização dos valores.**"
      ],
      "metadata": {
        "id": "cXaqCOAf0NE7"
      }
    },
    {
      "cell_type": "code",
      "source": [
        "scaler_Acidente = StandardScaler()\n",
        "X_under = scaler_Acidente.fit_transform(X_under)"
      ],
      "metadata": {
        "id": "EPDDmjRZ0V1D"
      },
      "execution_count": 63,
      "outputs": []
    },
    {
      "cell_type": "code",
      "source": [
        "X_under"
      ],
      "metadata": {
        "colab": {
          "base_uri": "https://localhost:8080/"
        },
        "id": "utgC4hc50hbL",
        "outputId": "444bd5ec-fcff-4daf-a7ad-8a352aaab536"
      },
      "execution_count": 64,
      "outputs": [
        {
          "output_type": "execute_result",
          "data": {
            "text/plain": [
              "array([[-0.32749518, -1.04944605,  1.24559347],\n",
              "       [-2.21923556,  1.59457157,  0.13962981],\n",
              "       [ 1.34596747,  0.96000734,  1.24559347],\n",
              "       ...,\n",
              "       [ 1.34596747,  0.96000734,  1.24559347],\n",
              "       [-2.07371707, -0.83792464, -0.96633385],\n",
              "       [-0.10921744, -0.83792464,  0.13962981]])"
            ]
          },
          "metadata": {},
          "execution_count": 64
        }
      ]
    },
    {
      "cell_type": "markdown",
      "source": [
        "**Feito a Padronização, se procede à divisão das bases de dados em Treinamento e Teste.**"
      ],
      "metadata": {
        "id": "U9lsRl0x0nwI"
      }
    },
    {
      "cell_type": "markdown",
      "source": [
        "#Divisão Base de Treinamento e Teste"
      ],
      "metadata": {
        "id": "Jqn-t8y60sYh"
      }
    },
    {
      "cell_type": "markdown",
      "source": [
        "**Serão criados 4 variáveis , duas para treinamento e 2 para teste.**"
      ],
      "metadata": {
        "id": "7gZgC_Gi0zx5"
      }
    },
    {
      "cell_type": "code",
      "source": [
        "X_under_treinamento, X_under_teste,Y_under_treinamento,Y_under_teste = train_test_split(X_under,Y_under, test_size=0.25,random_state=0)"
      ],
      "metadata": {
        "id": "BF0ZVLp90wC6"
      },
      "execution_count": 65,
      "outputs": []
    },
    {
      "cell_type": "markdown",
      "source": [
        "**Verificando as variáveis criadas.**"
      ],
      "metadata": {
        "id": "CxtK050Y1C6o"
      }
    },
    {
      "cell_type": "code",
      "source": [
        "X_under_treinamento.shape"
      ],
      "metadata": {
        "colab": {
          "base_uri": "https://localhost:8080/"
        },
        "id": "h1BDYlKg0qCZ",
        "outputId": "7afb3564-3182-4152-af40-f7fe72e4434c"
      },
      "execution_count": 66,
      "outputs": [
        {
          "output_type": "execute_result",
          "data": {
            "text/plain": [
              "(3819, 3)"
            ]
          },
          "metadata": {},
          "execution_count": 66
        }
      ]
    },
    {
      "cell_type": "code",
      "source": [
        "X_under_teste.shape"
      ],
      "metadata": {
        "colab": {
          "base_uri": "https://localhost:8080/"
        },
        "id": "-leFnVgj1Jnf",
        "outputId": "7621a0e9-b014-4410-cf4e-369e8cf119b2"
      },
      "execution_count": 67,
      "outputs": [
        {
          "output_type": "execute_result",
          "data": {
            "text/plain": [
              "(1274, 3)"
            ]
          },
          "metadata": {},
          "execution_count": 67
        }
      ]
    },
    {
      "cell_type": "code",
      "source": [
        "Y_under_treinamento.shape"
      ],
      "metadata": {
        "colab": {
          "base_uri": "https://localhost:8080/"
        },
        "id": "r2t8l8hT1LHx",
        "outputId": "4fab3cb6-d5c4-42d3-be8b-f31829fc2e44"
      },
      "execution_count": 68,
      "outputs": [
        {
          "output_type": "execute_result",
          "data": {
            "text/plain": [
              "(3819,)"
            ]
          },
          "metadata": {},
          "execution_count": 68
        }
      ]
    },
    {
      "cell_type": "code",
      "source": [
        "Y_under_teste.shape"
      ],
      "metadata": {
        "colab": {
          "base_uri": "https://localhost:8080/"
        },
        "id": "MyY7IosF1mKr",
        "outputId": "c1f687fd-7578-4883-a28b-a6263dfc2467"
      },
      "execution_count": 69,
      "outputs": [
        {
          "output_type": "execute_result",
          "data": {
            "text/plain": [
              "(1274,)"
            ]
          },
          "metadata": {},
          "execution_count": 69
        }
      ]
    },
    {
      "cell_type": "code",
      "source": [
        "X_under_teste.shape,Y_under_teste.shape"
      ],
      "metadata": {
        "colab": {
          "base_uri": "https://localhost:8080/"
        },
        "id": "3UmC4LXJ1pRj",
        "outputId": "cd7c8d79-6511-4eaf-a5ac-c2ffa93f364c"
      },
      "execution_count": 70,
      "outputs": [
        {
          "output_type": "execute_result",
          "data": {
            "text/plain": [
              "((1274, 3), (1274,))"
            ]
          },
          "metadata": {},
          "execution_count": 70
        }
      ]
    },
    {
      "cell_type": "markdown",
      "source": [
        "#Treinando e Testando o Algoritmo SVM"
      ],
      "metadata": {
        "id": "ycjnGMiN17eY"
      }
    },
    {
      "cell_type": "code",
      "source": [
        "svm_Acidente= SVC(kernel='rbf',random_state= 1,C=1.0)"
      ],
      "metadata": {
        "id": "FnsjfDxz2wa3"
      },
      "execution_count": 71,
      "outputs": []
    },
    {
      "cell_type": "code",
      "source": [
        "svm_Acidente.fit(X_under_treinamento,Y_under_treinamento)"
      ],
      "metadata": {
        "colab": {
          "base_uri": "https://localhost:8080/"
        },
        "id": "7TlWskAe4NGU",
        "outputId": "c628c7d8-baf1-4a01-fa82-0ab9408fc9ff"
      },
      "execution_count": 72,
      "outputs": [
        {
          "output_type": "execute_result",
          "data": {
            "text/plain": [
              "SVC(random_state=1)"
            ]
          },
          "metadata": {},
          "execution_count": 72
        }
      ]
    },
    {
      "cell_type": "code",
      "source": [
        "previsoes = svm_Acidente.predict(X_under_teste)\n",
        "previsoes"
      ],
      "metadata": {
        "colab": {
          "base_uri": "https://localhost:8080/"
        },
        "id": "1EfTbM0Z4ZTX",
        "outputId": "341b51bf-2ede-441d-d97d-e53cd29c52f9"
      },
      "execution_count": 73,
      "outputs": [
        {
          "output_type": "execute_result",
          "data": {
            "text/plain": [
              "array(['INCIDENTE', 'INCIDENTE', 'INCIDENTE', ..., 'INCIDENTE',\n",
              "       'INCIDENTE', 'ACIDENTE'], dtype=object)"
            ]
          },
          "metadata": {},
          "execution_count": 73
        }
      ]
    },
    {
      "cell_type": "code",
      "source": [
        "Y_under_teste"
      ],
      "metadata": {
        "colab": {
          "base_uri": "https://localhost:8080/"
        },
        "id": "ATpXOO_K4mwC",
        "outputId": "9d3df645-3403-447e-bbdb-4ba04f05b799"
      },
      "execution_count": 74,
      "outputs": [
        {
          "output_type": "execute_result",
          "data": {
            "text/plain": [
              "array(['INCIDENTE', 'ACIDENTE', 'ACIDENTE', ..., 'INCIDENTE', 'INCIDENTE',\n",
              "       'ACIDENTE'], dtype=object)"
            ]
          },
          "metadata": {},
          "execution_count": 74
        }
      ]
    },
    {
      "cell_type": "markdown",
      "source": [
        "#Métricas de Avaliação do Algoritmo SVM"
      ],
      "metadata": {
        "id": "g1nGa-BT4vPn"
      }
    },
    {
      "cell_type": "code",
      "source": [
        "accuracy_score(Y_under_teste,previsoes)"
      ],
      "metadata": {
        "colab": {
          "base_uri": "https://localhost:8080/"
        },
        "id": "rcF9ciLQ40W0",
        "outputId": "ecf5c193-78a6-49cd-f287-371a1205b982"
      },
      "execution_count": 75,
      "outputs": [
        {
          "output_type": "execute_result",
          "data": {
            "text/plain": [
              "0.8273155416012559"
            ]
          },
          "metadata": {},
          "execution_count": 75
        }
      ]
    },
    {
      "cell_type": "code",
      "source": [
        "confusion_matrix(Y_under_teste,previsoes)"
      ],
      "metadata": {
        "colab": {
          "base_uri": "https://localhost:8080/"
        },
        "id": "G6PjAFzQ5Gwd",
        "outputId": "ed596081-7b83-406b-f058-13193d774a9c"
      },
      "execution_count": 76,
      "outputs": [
        {
          "output_type": "execute_result",
          "data": {
            "text/plain": [
              "array([[376,  35,   0],\n",
              "       [ 17, 678,   0],\n",
              "       [ 53, 115,   0]])"
            ]
          },
          "metadata": {},
          "execution_count": 76
        }
      ]
    },
    {
      "cell_type": "code",
      "source": [
        "cm = ConfusionMatrix(svm_Acidente)\n",
        "cm.fit(X_under_treinamento, Y_under_treinamento)\n",
        "cm.score(X_under_teste,Y_under_teste)"
      ],
      "metadata": {
        "colab": {
          "base_uri": "https://localhost:8080/",
          "height": 464
        },
        "id": "_MiHrkYw5S9D",
        "outputId": "a082d321-e49f-48f6-9001-329740b38f9f"
      },
      "execution_count": 77,
      "outputs": [
        {
          "output_type": "execute_result",
          "data": {
            "text/plain": [
              "0.8273155416012559"
            ]
          },
          "metadata": {},
          "execution_count": 77
        },
        {
          "output_type": "display_data",
          "data": {
            "image/png": "[encoded data removed]",
            "text/plain": [
              "<Figure size 576x396 with 1 Axes>"
            ]
          },
          "metadata": {}
        }
      ]
    },
    {
      "cell_type": "markdown",
      "source": [
        "**Avaliando Precisão e Sensibilidade**"
      ],
      "metadata": {
        "id": "6Bpt9ewB53Gh"
      }
    },
    {
      "cell_type": "code",
      "source": [
        "print (classification_report(Y_under_teste,previsoes))"
      ],
      "metadata": {
        "colab": {
          "base_uri": "https://localhost:8080/"
        },
        "id": "YM1uROmF55MA",
        "outputId": "b068cf3d-1873-4e4d-9b71-faa5988bb618"
      },
      "execution_count": 87,
      "outputs": [
        {
          "output_type": "stream",
          "name": "stdout",
          "text": [
            "                 precision    recall  f1-score   support\n",
            "\n",
            "       ACIDENTE       0.84      0.91      0.88       411\n",
            "      INCIDENTE       0.82      0.98      0.89       695\n",
            "INCIDENTE GRAVE       0.00      0.00      0.00       168\n",
            "\n",
            "       accuracy                           0.83      1274\n",
            "      macro avg       0.55      0.63      0.59      1274\n",
            "   weighted avg       0.72      0.83      0.77      1274\n",
            "\n"
          ]
        }
      ]
    },
    {
      "cell_type": "markdown",
      "source": [
        "O Algoritmo é muito bom  para prever acidente e incidente e quando detecta,  tem boa precisão. Porém não consgue detectar incidente grave. Já  a  acurácia é  boa. Deverá ser  reavaliado os registros da variável target para incidente grave."
      ],
      "metadata": {
        "id": "_UdVxBPy6g6Z"
      }
    },
    {
      "cell_type": "markdown",
      "source": [
        "#Treinando e testando o algoritmo KNN"
      ],
      "metadata": {
        "id": "fLu0MCbI9pww"
      }
    },
    {
      "cell_type": "code",
      "source": [
        "KNN_Acidente = KNeighborsClassifier(n_neighbors=10,metric='minkowski',p=2)"
      ],
      "metadata": {
        "id": "clXPv1SL-wTA"
      },
      "execution_count": 79,
      "outputs": []
    },
    {
      "cell_type": "code",
      "source": [
        "KNN_Acidente.fit(X_under_treinamento,Y_under_treinamento)"
      ],
      "metadata": {
        "colab": {
          "base_uri": "https://localhost:8080/"
        },
        "id": "kQMeGoz3Aere",
        "outputId": "b9f1f12c-d050-4d4a-8041-301bbd425bd7"
      },
      "execution_count": 80,
      "outputs": [
        {
          "output_type": "execute_result",
          "data": {
            "text/plain": [
              "KNeighborsClassifier(n_neighbors=10)"
            ]
          },
          "metadata": {},
          "execution_count": 80
        }
      ]
    },
    {
      "cell_type": "code",
      "source": [
        "previsoes1=KNN_Acidente.predict(X_under_teste)\n",
        "previsoes1"
      ],
      "metadata": {
        "colab": {
          "base_uri": "https://localhost:8080/"
        },
        "id": "PMwV1v9eAo8l",
        "outputId": "02a0b4ac-a93b-42ae-8d4f-d065b353e6a0"
      },
      "execution_count": 81,
      "outputs": [
        {
          "output_type": "execute_result",
          "data": {
            "text/plain": [
              "array(['INCIDENTE', 'INCIDENTE', 'INCIDENTE', ..., 'INCIDENTE',\n",
              "       'INCIDENTE', 'ACIDENTE'], dtype=object)"
            ]
          },
          "metadata": {},
          "execution_count": 81
        }
      ]
    },
    {
      "cell_type": "code",
      "source": [
        "Y_under_teste"
      ],
      "metadata": {
        "colab": {
          "base_uri": "https://localhost:8080/"
        },
        "id": "S_DALRJRA0ZU",
        "outputId": "de1bae67-9fc1-4e62-d2c7-9068155e2f06"
      },
      "execution_count": 82,
      "outputs": [
        {
          "output_type": "execute_result",
          "data": {
            "text/plain": [
              "array(['INCIDENTE', 'ACIDENTE', 'ACIDENTE', ..., 'INCIDENTE', 'INCIDENTE',\n",
              "       'ACIDENTE'], dtype=object)"
            ]
          },
          "metadata": {},
          "execution_count": 82
        }
      ]
    },
    {
      "cell_type": "markdown",
      "source": [
        "#Métricas de Avaliação do Algoritmo KNN"
      ],
      "metadata": {
        "id": "DFapg9lPA_79"
      }
    },
    {
      "cell_type": "code",
      "source": [
        "accuracy_score(Y_under_teste,previsoes)"
      ],
      "metadata": {
        "colab": {
          "base_uri": "https://localhost:8080/"
        },
        "id": "khNj_f21BGFN",
        "outputId": "32aef79b-30d3-4edc-9811-366d21227e8c"
      },
      "execution_count": 83,
      "outputs": [
        {
          "output_type": "execute_result",
          "data": {
            "text/plain": [
              "0.8273155416012559"
            ]
          },
          "metadata": {},
          "execution_count": 83
        }
      ]
    },
    {
      "cell_type": "code",
      "source": [
        "confusion_matrix(Y_under_teste,previsoes1)"
      ],
      "metadata": {
        "colab": {
          "base_uri": "https://localhost:8080/"
        },
        "id": "-jl5zkDgBUue",
        "outputId": "7654c9f2-85e5-4d7e-faeb-58148fde7244"
      },
      "execution_count": 84,
      "outputs": [
        {
          "output_type": "execute_result",
          "data": {
            "text/plain": [
              "array([[366,  32,  13],\n",
              "       [ 14, 658,  23],\n",
              "       [ 38,  98,  32]])"
            ]
          },
          "metadata": {},
          "execution_count": 84
        }
      ]
    },
    {
      "cell_type": "code",
      "source": [
        "cm = ConfusionMatrix(KNN_Acidente)\n",
        "cm.fit(X_under_treinamento, Y_under_treinamento)\n",
        "cm.score(X_under_teste,Y_under_teste)"
      ],
      "metadata": {
        "colab": {
          "base_uri": "https://localhost:8080/",
          "height": 464
        },
        "id": "cXJxdFvCBcIN",
        "outputId": "23489f26-f68e-4e66-9944-1ae6271e9ec2"
      },
      "execution_count": 85,
      "outputs": [
        {
          "output_type": "execute_result",
          "data": {
            "text/plain": [
              "0.8288854003139717"
            ]
          },
          "metadata": {},
          "execution_count": 85
        },
        {
          "output_type": "display_data",
          "data": {
            "image/png": "[encoded data removed]",
            "text/plain": [
              "<Figure size 576x396 with 1 Axes>"
            ]
          },
          "metadata": {}
        }
      ]
    },
    {
      "cell_type": "markdown",
      "source": [
        "**Avaliando Precisão e Sensibilidade**"
      ],
      "metadata": {
        "id": "Hb2HMb05BnYi"
      }
    },
    {
      "cell_type": "code",
      "source": [
        "print (classification_report(Y_under_teste,previsoes1))"
      ],
      "metadata": {
        "colab": {
          "base_uri": "https://localhost:8080/"
        },
        "id": "xU6AcOfNBpvO",
        "outputId": "f6b99c3c-8a6f-4d3e-a5a6-6114c3981901"
      },
      "execution_count": 86,
      "outputs": [
        {
          "output_type": "stream",
          "name": "stdout",
          "text": [
            "                 precision    recall  f1-score   support\n",
            "\n",
            "       ACIDENTE       0.88      0.89      0.88       411\n",
            "      INCIDENTE       0.84      0.95      0.89       695\n",
            "INCIDENTE GRAVE       0.47      0.19      0.27       168\n",
            "\n",
            "       accuracy                           0.83      1274\n",
            "      macro avg       0.73      0.68      0.68      1274\n",
            "   weighted avg       0.80      0.83      0.80      1274\n",
            "\n"
          ]
        }
      ]
    },
    {
      "cell_type": "markdown",
      "source": [
        "O algoritmo KNN em relação ao SVM  apresenta  uma menor sensibilidade , porém  maior  precisão  para  acidente e incidente. E  consegue prever  incidentes  graves, porém ainda  muito  baixo o recall e precision. A acurácia é igual ao SVM."
      ],
      "metadata": {
        "id": "l8T1VsfbCCi7"
      }
    },
    {
      "cell_type": "markdown",
      "source": [
        "#Treinando e testando o algoritmo Regressão Logística"
      ],
      "metadata": {
        "id": "ibQudi9LCuqy"
      }
    },
    {
      "cell_type": "code",
      "source": [
        "logistic_Acidente= LogisticRegression(max_iter= 100, random_state=1)"
      ],
      "metadata": {
        "id": "ZJfh_t70DPCv"
      },
      "execution_count": 88,
      "outputs": []
    },
    {
      "cell_type": "code",
      "source": [
        "logistic_Acidente.fit(X_under_treinamento,Y_under_treinamento)"
      ],
      "metadata": {
        "colab": {
          "base_uri": "https://localhost:8080/"
        },
        "id": "AfSEODhnDcOX",
        "outputId": "0480ab0c-5a22-423e-bd8c-2f2e572628f6"
      },
      "execution_count": 89,
      "outputs": [
        {
          "output_type": "execute_result",
          "data": {
            "text/plain": [
              "LogisticRegression(random_state=1)"
            ]
          },
          "metadata": {},
          "execution_count": 89
        }
      ]
    },
    {
      "cell_type": "code",
      "source": [
        "logistic_Acidente.coef_"
      ],
      "metadata": {
        "colab": {
          "base_uri": "https://localhost:8080/"
        },
        "id": "bUCCqriwDo3K",
        "outputId": "4607127c-4c23-4f2e-8043-5a18cdb5d13d"
      },
      "execution_count": 90,
      "outputs": [
        {
          "output_type": "execute_result",
          "data": {
            "text/plain": [
              "array([[ 0.05893024, -0.1309707 ,  0.42110703],\n",
              "       [-0.15468722,  0.07761639, -0.34811299],\n",
              "       [ 0.09575698,  0.05335431, -0.07299404]])"
            ]
          },
          "metadata": {},
          "execution_count": 90
        }
      ]
    },
    {
      "cell_type": "code",
      "source": [
        "logistic_Acidente.intercept_"
      ],
      "metadata": {
        "colab": {
          "base_uri": "https://localhost:8080/"
        },
        "id": "OL3NaeWoD6dD",
        "outputId": "e5d0d188-5a9e-4d37-b3cc-f611c3869df4"
      },
      "execution_count": 91,
      "outputs": [
        {
          "output_type": "execute_result",
          "data": {
            "text/plain": [
              "array([ 0.09872721,  0.7021955 , -0.80092271])"
            ]
          },
          "metadata": {},
          "execution_count": 91
        }
      ]
    },
    {
      "cell_type": "code",
      "source": [
        "previsoes2= logistic_Acidente.predict(X_under_teste)\n",
        "previsoes2"
      ],
      "metadata": {
        "colab": {
          "base_uri": "https://localhost:8080/"
        },
        "id": "a3zwOLF-EMdx",
        "outputId": "5f2474fc-b3db-4114-8c1a-bfa48c9ec1a3"
      },
      "execution_count": 92,
      "outputs": [
        {
          "output_type": "execute_result",
          "data": {
            "text/plain": [
              "array(['INCIDENTE', 'INCIDENTE', 'INCIDENTE', ..., 'INCIDENTE',\n",
              "       'INCIDENTE', 'ACIDENTE'], dtype=object)"
            ]
          },
          "metadata": {},
          "execution_count": 92
        }
      ]
    },
    {
      "cell_type": "code",
      "source": [
        "Y_under_teste"
      ],
      "metadata": {
        "colab": {
          "base_uri": "https://localhost:8080/"
        },
        "id": "SsLuUuF3EXai",
        "outputId": "bd172f45-9c5e-4d6c-f5ac-cbfecdf15113"
      },
      "execution_count": 93,
      "outputs": [
        {
          "output_type": "execute_result",
          "data": {
            "text/plain": [
              "array(['INCIDENTE', 'ACIDENTE', 'ACIDENTE', ..., 'INCIDENTE', 'INCIDENTE',\n",
              "       'ACIDENTE'], dtype=object)"
            ]
          },
          "metadata": {},
          "execution_count": 93
        }
      ]
    },
    {
      "cell_type": "markdown",
      "source": [
        "#Métricas de Avaliação do Algoritmo Regressão Logística"
      ],
      "metadata": {
        "id": "z7Hjd_9WEftn"
      }
    },
    {
      "cell_type": "code",
      "source": [
        "accuracy_score(Y_under_teste,previsoes2)"
      ],
      "metadata": {
        "colab": {
          "base_uri": "https://localhost:8080/"
        },
        "id": "Y40dGl2aEj7a",
        "outputId": "beeb433c-7fa8-4515-e9be-a4aa41cc0ba5"
      },
      "execution_count": 94,
      "outputs": [
        {
          "output_type": "execute_result",
          "data": {
            "text/plain": [
              "0.7040816326530612"
            ]
          },
          "metadata": {},
          "execution_count": 94
        }
      ]
    },
    {
      "cell_type": "code",
      "source": [
        "confusion_matrix(Y_under_teste,previsoes2)"
      ],
      "metadata": {
        "colab": {
          "base_uri": "https://localhost:8080/"
        },
        "id": "JY31_vLLE02h",
        "outputId": "97e8b733-bb00-4463-9ecc-b47810047600"
      },
      "execution_count": 95,
      "outputs": [
        {
          "output_type": "execute_result",
          "data": {
            "text/plain": [
              "array([[250, 161,   0],\n",
              "       [ 48, 647,   0],\n",
              "       [ 43, 125,   0]])"
            ]
          },
          "metadata": {},
          "execution_count": 95
        }
      ]
    },
    {
      "cell_type": "code",
      "source": [
        "cm = ConfusionMatrix(logistic_Acidente)\n",
        "cm.fit(X_under_treinamento, Y_under_treinamento)\n",
        "cm.score(X_under_teste,Y_under_teste)"
      ],
      "metadata": {
        "colab": {
          "base_uri": "https://localhost:8080/",
          "height": 464
        },
        "id": "iv4iJOBVE94g",
        "outputId": "d30ffd2e-f1ad-450c-b009-08785c20eb98"
      },
      "execution_count": 96,
      "outputs": [
        {
          "output_type": "execute_result",
          "data": {
            "text/plain": [
              "0.7040816326530612"
            ]
          },
          "metadata": {},
          "execution_count": 96
        },
        {
          "output_type": "display_data",
          "data": {
            "image/png": "[encoded data removed]",
            "text/plain": [
              "<Figure size 576x396 with 1 Axes>"
            ]
          },
          "metadata": {}
        }
      ]
    },
    {
      "cell_type": "markdown",
      "source": [
        "**Avaliando Precisão e Sensibilidade**"
      ],
      "metadata": {
        "id": "KgiOtlp6FKYq"
      }
    },
    {
      "cell_type": "code",
      "source": [
        "print (classification_report(Y_under_teste,previsoes2))"
      ],
      "metadata": {
        "colab": {
          "base_uri": "https://localhost:8080/"
        },
        "id": "3_WxxktMFP_z",
        "outputId": "3d494ee3-e4ea-47bf-afbb-12280e4d16b8"
      },
      "execution_count": 97,
      "outputs": [
        {
          "output_type": "stream",
          "name": "stdout",
          "text": [
            "                 precision    recall  f1-score   support\n",
            "\n",
            "       ACIDENTE       0.73      0.61      0.66       411\n",
            "      INCIDENTE       0.69      0.93      0.79       695\n",
            "INCIDENTE GRAVE       0.00      0.00      0.00       168\n",
            "\n",
            "       accuracy                           0.70      1274\n",
            "      macro avg       0.48      0.51      0.49      1274\n",
            "   weighted avg       0.61      0.70      0.65      1274\n",
            "\n"
          ]
        }
      ]
    },
    {
      "cell_type": "markdown",
      "source": [
        "O  algoritmo de regressão logística apresentou os piores scores em relação ao SVM e KNN.Deverá ser reavaliado os registros da variável target para incidente grave."
      ],
      "metadata": {
        "id": "3YU62O4eFXtG"
      }
    },
    {
      "cell_type": "markdown",
      "source": [
        "# Conclusão"
      ],
      "metadata": {
        "id": "rMbGGNwEFZ2Q"
      }
    },
    {
      "cell_type": "markdown",
      "source": [
        "O modelo de previsão escolhido será o SVM,pois  considerando que o acidente  gere mais  despesa para a empresa, o SVM é  um modelo mais sensível."
      ],
      "metadata": {
        "id": "sYqb6aB327WT"
      }
    }
  ]
}